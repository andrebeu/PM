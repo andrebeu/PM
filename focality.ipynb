{
 "cells": [
  {
   "cell_type": "markdown",
   "metadata": {},
   "source": [
    "# Focality Branch\n",
    "- find a way of simulating focal vs non-focal tasks"
   ]
  },
  {
   "cell_type": "code",
   "execution_count": 1,
   "metadata": {},
   "outputs": [],
   "source": [
    "from glob import glob as glob\n",
    "import torch as tr\n",
    "import numpy as np\n",
    "\n",
    "from PMmodel import *\n",
    "\n",
    "from matplotlib import pyplot as plt\n",
    "%matplotlib inline\n",
    "\n",
    "%load_ext autoreload\n",
    "%reload_ext autoreload\n",
    "%autoreload 2"
   ]
  },
  {
   "cell_type": "markdown",
   "metadata": {},
   "source": [
    "# train and eval script"
   ]
  },
  {
   "cell_type": "code",
   "execution_count": 2,
   "metadata": {},
   "outputs": [],
   "source": [
    "## task\n",
    "nback=2\n",
    "ntokens_og=3\n",
    "num_pm_trials=3\n",
    "edim_og=5\n",
    "edim_pm=5\n",
    "focal=1\n",
    "pm_weight = 1\n",
    "trseqlen = 25\n",
    "\n",
    "## network\n",
    "indim = edim_og+edim_pm\n",
    "stsize = 20\n",
    "batch=1\n",
    "outdim=3\n",
    "arch = 'wmem'"
   ]
  },
  {
   "cell_type": "code",
   "execution_count": 3,
   "metadata": {},
   "outputs": [],
   "source": [
    "# model and task\n",
    "if arch=='purewm': net = Net(indim,stsize,outdim)\n",
    "elif arch=='wmem': net = Net_wmem(indim,stsize,outdim)\n",
    "task = NBackPMTask(nback,ntokens_og,num_pm_trials,edim_og,edim_pm,focal,seed=132)\n"
   ]
  },
  {
   "cell_type": "markdown",
   "metadata": {},
   "source": [
    "### train"
   ]
  },
  {
   "cell_type": "code",
   "execution_count": 51,
   "metadata": {},
   "outputs": [],
   "source": [
    "def train(net,task,nepochs=1000,thresh=.99,pm_weight=1):\n",
    "  weight=tr.FloatTensor([1,1,pm_weight])\n",
    "  print(weight)\n",
    "  lossop = tr.nn.CrossEntropyLoss()\n",
    "  optiop = tr.optim.Adam(net.parameters(), lr=0.005)\n",
    "  L = -np.ones([nepochs])\n",
    "  A = -np.ones([nepochs])\n",
    "  E = -np.ones([nepochs])\n",
    "  acc,nembeds = 0,0\n",
    "  for ep in range(nepochs):\n",
    "    if ep%(nepochs/5)==0:\n",
    "      print(ep/nepochs)\n",
    "    # randomize emat\n",
    "    if acc>thresh:\n",
    "      task.sample_emat()\n",
    "      nembeds+=1\n",
    "    # generate data\n",
    "    x_seq,y_seq = task.gen_seq(trseqlen)\n",
    "    x_embeds,ytarget = task.embed_seq(x_seq,y_seq)\n",
    "    # forward prop\n",
    "    yhat = net(x_embeds)\n",
    "    # collect loss through time\n",
    "    loss,acc = 0,0\n",
    "    for yh,yt in zip(yhat,ytarget):\n",
    "      loss += weight[yt]*lossop(yh,yt)\n",
    "      acc += yt==tr.argmax(tr.softmax(yh,1))\n",
    "    acc = acc.numpy()/len(yhat)\n",
    "    print('L',loss)\n",
    "    # bp and update\n",
    "    optiop.zero_grad()\n",
    "    loss.backward()\n",
    "    optiop.step()\n",
    "    epoch_loss = loss.item()\n",
    "    L[ep] = epoch_loss\n",
    "    A[ep] = acc\n",
    "    E[ep] = nembeds\n",
    "  return net"
   ]
  },
  {
   "cell_type": "code",
   "execution_count": 54,
   "metadata": {},
   "outputs": [
    {
     "name": "stdout",
     "output_type": "stream",
     "text": [
      "weights tensor([  1.,   1., 100.])\n",
      "0.0\n",
      "L tensor(28.2468, grad_fn=<AddBackward0>)\n"
     ]
    }
   ],
   "source": [
    "task = NBackPMTask(nback,ntokens_og,num_pm_trials,edim_og,edim_pm,focal,seed=132)\n",
    "net = Net(indim,stsize,outdim)\n",
    "net = train(net,task,nepochs=1,pm_weight=100)"
   ]
  },
  {
   "cell_type": "code",
   "execution_count": 31,
   "metadata": {},
   "outputs": [
    {
     "name": "stdout",
     "output_type": "stream",
     "text": [
      "tensor([0.0833, 0.0833, 0.8333])\n",
      "0.0\n",
      "0.2\n",
      "0.4\n",
      "0.6\n",
      "0.8\n",
      "tensor([0.5000, 0.5000, 0.0000])\n",
      "0.0\n",
      "0.2\n",
      "0.4\n",
      "0.6\n",
      "0.8\n"
     ]
    }
   ],
   "source": [
    "net1 = Net(indim,stsize,outdim)\n",
    "task1 = NBackPMTask(nback,ntokens_og,num_pm_trials,edim_og,edim_pm,focal,seed=132)\n",
    "net1 = train(net1,task1,nepochs=1000,pm_weight=10)\n",
    "\n",
    "net2 = Net(indim,stsize,outdim)\n",
    "task2 = NBackPMTask(nback,ntokens_og,num_pm_trials,edim_og,edim_pm,focal,seed=132)\n",
    "net2 = train(net1,task1,nepochs=1000,pm_weight=0)"
   ]
  },
  {
   "cell_type": "markdown",
   "metadata": {},
   "source": [
    "### eval"
   ]
  },
  {
   "cell_type": "code",
   "execution_count": 32,
   "metadata": {},
   "outputs": [],
   "source": [
    "def eval_(net,task):\n",
    "  teseqlen = 15\n",
    "  neps = 1500\n",
    "  score = -np.ones([neps,teseqlen])\n",
    "  for ep in range(neps):\n",
    "    # embedding matrix\n",
    "    task.sample_emat()\n",
    "    # generate data\n",
    "    x_seq,y_seq = task.gen_seq(teseqlen,pm_trial_position=[5,9])\n",
    "    x_embeds,ytarget = task.embed_seq(x_seq,y_seq)\n",
    "    # forward prop\n",
    "    yhat = net(x_embeds)\n",
    "    ep_score = (ytarget == tr.softmax(yhat,-1).argmax(-1)).float().squeeze()\n",
    "    score[ep] = ep_score \n",
    "  return score"
   ]
  },
  {
   "cell_type": "code",
   "execution_count": 33,
   "metadata": {},
   "outputs": [],
   "source": [
    "score1 = eval_(net1,task2)\n",
    "score2 = eval_(net2,task2)"
   ]
  },
  {
   "cell_type": "code",
   "execution_count": 34,
   "metadata": {},
   "outputs": [
    {
     "data": {
      "text/plain": [
       "(0, 1)"
      ]
     },
     "execution_count": 34,
     "metadata": {},
     "output_type": "execute_result"
    },
    {
     "data": {
      "image/png": "[encoded data removed]",
      "text/plain": [
       "<Figure size 432x288 with 1 Axes>"
      ]
     },
     "metadata": {},
     "output_type": "display_data"
    }
   ],
   "source": [
    "plt.plot(score1.mean(0))\n",
    "plt.plot(score2.mean(0))\n",
    "plt.ylim(0,1)"
   ]
  },
  {
   "cell_type": "code",
   "execution_count": null,
   "metadata": {},
   "outputs": [],
   "source": []
  }
 ],
 "metadata": {
  "kernelspec": {
   "display_name": "Python 3",
   "language": "python",
   "name": "python3"
  },
  "language_info": {
   "codemirror_mode": {
    "name": "ipython",
    "version": 3
   },
   "file_extension": ".py",
   "mimetype": "text/x-python",
   "name": "python",
   "nbconvert_exporter": "python",
   "pygments_lexer": "ipython3",
   "version": "3.6.5"
  }
 },
 "nbformat": 4,
 "nbformat_minor": 2
}
