{
 "cells": [
  {
   "cell_type": "markdown",
   "metadata": {},
   "source": [
    "# Focality Branch\n",
    "- find a way of simulating focal vs non-focal tasks"
   ]
  },
  {
   "cell_type": "code",
   "execution_count": 1,
   "metadata": {},
   "outputs": [],
   "source": [
    "from glob import glob as glob\n",
    "import torch as tr\n",
    "import numpy as np\n",
    "\n",
    "from PMmodel import *\n",
    "\n",
    "from matplotlib import pyplot as plt\n",
    "%matplotlib inline\n",
    "\n",
    "%load_ext autoreload\n",
    "%reload_ext autoreload\n",
    "%autoreload 2"
   ]
  },
  {
   "cell_type": "markdown",
   "metadata": {},
   "source": [
    "# train and eval script"
   ]
  },
  {
   "cell_type": "code",
   "execution_count": 23,
   "metadata": {},
   "outputs": [],
   "source": [
    "## task\n",
    "nback=2\n",
    "ntokens_og=3\n",
    "num_pm_trials=3\n",
    "edim_og=5\n",
    "edim_pm=5\n",
    "focal=1\n",
    "pm_weight = 1\n",
    "trseqlen = 25\n",
    "\n",
    "## network\n",
    "indim = edim_og+edim_pm\n",
    "stsize = 20\n",
    "batch=1\n",
    "outdim=3\n",
    "arch = 'wmem'"
   ]
  },
  {
   "cell_type": "code",
   "execution_count": 24,
   "metadata": {},
   "outputs": [
    {
     "name": "stdout",
     "output_type": "stream",
     "text": [
      "focal\n"
     ]
    }
   ],
   "source": [
    "# model and task\n",
    "if arch=='purewm': net = Net(indim,stsize,outdim)\n",
    "elif arch=='wmem': net = Net_wmem(indim,stsize,outdim)\n",
    "task = NBackPMTask(nback,ntokens_og,num_pm_trials,edim_og,edim_pm,focal,seed=132)\n",
    "\n",
    "# specify loss and optimizer\n",
    "lossop = tr.nn.CrossEntropyLoss(weight=tr.Tensor([1,1,pm_weight]))\n",
    "optiop = tr.optim.Adam(net.parameters(), lr=0.005)"
   ]
  },
  {
   "cell_type": "markdown",
   "metadata": {},
   "source": [
    "### train"
   ]
  },
  {
   "cell_type": "code",
   "execution_count": 13,
   "metadata": {},
   "outputs": [
    {
     "name": "stdout",
     "output_type": "stream",
     "text": [
      "0.0\n"
     ]
    }
   ],
   "source": [
    "thresh = .99\n",
    "nepochs = 1\n",
    "L = -np.ones([nepochs])\n",
    "A = -np.ones([nepochs])\n",
    "E = -np.ones([nepochs])\n",
    "\n",
    "acc = 0\n",
    "nembeds = 0\n",
    "for ep in range(nepochs):\n",
    "  if ep%(nepochs/5)==0:\n",
    "    print(ep/nepochs)\n",
    "  # randomize emat\n",
    "  if acc>thresh:\n",
    "    task.sample_emat()\n",
    "    nembeds+=1\n",
    "  # generate data\n",
    "  x_seq,y_seq = task.gen_seq(trseqlen)\n",
    "  x_embeds,ytarget = task.embed_seq(x_seq,y_seq)\n",
    "  # forward prop\n",
    "  yhat = net(x_embeds)\n",
    "  # collect loss through time\n",
    "  loss,acc = 0,0\n",
    "  for yh,yt in zip(yhat,ytarget):\n",
    "    loss += lossop(yh,yt)\n",
    "    acc += yt==tr.argmax(tr.softmax(yh,1))\n",
    "  acc = acc.numpy()/len(yhat)\n",
    "  # bp and update\n",
    "  optiop.zero_grad()\n",
    "  loss.backward()\n",
    "  optiop.step()\n",
    "  epoch_loss = loss.item()\n",
    "  L[ep] = epoch_loss\n",
    "  A[ep] = acc\n",
    "  E[ep] = nembeds"
   ]
  },
  {
   "cell_type": "markdown",
   "metadata": {},
   "source": [
    "### eval"
   ]
  },
  {
   "cell_type": "code",
   "execution_count": 14,
   "metadata": {},
   "outputs": [],
   "source": [
    "def eval_(net,task):\n",
    "  teseqlen = 15\n",
    "  neps = 1500\n",
    "  score = -np.ones([neps,teseqlen])\n",
    "  for ep in range(neps):\n",
    "    # embedding matrix\n",
    "    task.sample_emat()\n",
    "    # generate data\n",
    "    x_seq,y_seq = task.gen_seq(teseqlen,pm_trial_position=[5,9])\n",
    "    x_embeds,ytarget = task.embed_seq(x_seq,y_seq)\n",
    "    # forward prop\n",
    "    yhat = net(x_embeds)\n",
    "    ep_score = (ytarget == tr.softmax(yhat,-1).argmax(-1)).float().squeeze()\n",
    "    score[ep] = ep_score \n",
    "  return score"
   ]
  },
  {
   "cell_type": "code",
   "execution_count": 15,
   "metadata": {},
   "outputs": [
    {
     "data": {
      "text/plain": [
       "<matplotlib.lines.Line2D at 0x121e665f8>"
      ]
     },
     "execution_count": 15,
     "metadata": {},
     "output_type": "execute_result"
    },
    {
     "data": {
      "image/png": "[encoded data removed]",
      "text/plain": [
       "<Figure size 432x288 with 1 Axes>"
      ]
     },
     "metadata": {},
     "output_type": "display_data"
    }
   ],
   "source": [
    "score = eval_(net,task)\n",
    "plt.plot(score.mean(0))\n",
    "plt.ylim(0,1.05)\n",
    "plt.axhline(.66,c='r',lw=.5,ls='--')"
   ]
  },
  {
   "cell_type": "code",
   "execution_count": null,
   "metadata": {},
   "outputs": [],
   "source": []
  }
 ],
 "metadata": {
  "kernelspec": {
   "display_name": "Python 3",
   "language": "python",
   "name": "python3"
  },
  "language_info": {
   "codemirror_mode": {
    "name": "ipython",
    "version": 3
   },
   "file_extension": ".py",
   "mimetype": "text/x-python",
   "name": "python",
   "nbconvert_exporter": "python",
   "pygments_lexer": "ipython3",
   "version": "3.6.5"
  }
 },
 "nbformat": 4,
 "nbformat_minor": 2
}
