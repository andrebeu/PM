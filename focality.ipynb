{
 "cells": [
  {
   "cell_type": "markdown",
   "metadata": {},
   "source": [
    "# Focality Branch\n",
    "- find a way of simulating focal vs non-focal tasks"
   ]
  },
  {
   "cell_type": "code",
   "execution_count": 1,
   "metadata": {},
   "outputs": [],
   "source": [
    "from glob import glob as glob\n",
    "import torch as tr\n",
    "import numpy as np\n",
    "\n",
    "from PMmodel import *\n",
    "\n",
    "from matplotlib import pyplot as plt\n",
    "%matplotlib inline\n",
    "\n",
    "%load_ext autoreload\n",
    "%reload_ext autoreload\n",
    "%autoreload 2"
   ]
  },
  {
   "cell_type": "markdown",
   "metadata": {},
   "source": [
    "# train and eval script"
   ]
  },
  {
   "cell_type": "code",
   "execution_count": 2,
   "metadata": {},
   "outputs": [],
   "source": [
    "## task\n",
    "nback=2\n",
    "num_og_tokens=3\n",
    "num_pm_trials = 3\n",
    "seqlen = 25\n",
    "## network\n",
    "edim = 5\n",
    "stsize = 10\n",
    "batch=1\n",
    "outdim=3\n",
    "arch = 'wmem'"
   ]
  },
  {
   "cell_type": "code",
   "execution_count": 5,
   "metadata": {},
   "outputs": [],
   "source": [
    "# model and task\n",
    "if arch=='purewm':\n",
    "  net = Net(edim,stsize,outdim)\n",
    "elif arch=='wmem':\n",
    "  net = Net_wmem(edim,stsize,outdim)\n",
    "task = NBackPMTask(nback,num_og_tokens,num_pm_trials,edim)\n",
    "\n",
    "# specify loss and optimizer\n",
    "lossop = tr.nn.CrossEntropyLoss(weight=tr.Tensor([1,1,1]))\n",
    "optiop = tr.optim.Adam(net.parameters(), lr=0.005)"
   ]
  },
  {
   "cell_type": "markdown",
   "metadata": {},
   "source": [
    "### train"
   ]
  },
  {
   "cell_type": "code",
   "execution_count": 13,
   "metadata": {},
   "outputs": [
    {
     "data": {
      "text/plain": [
       "array([ True, False,  True, False, False,  True, False, False, False,\n",
       "       False, False, False,  True, False, False, False, False, False,\n",
       "       False, False, False, False, False, False, False])"
      ]
     },
     "execution_count": 13,
     "metadata": {},
     "output_type": "execute_result"
    }
   ],
   "source": [
    "edim_og = edim_pm = 4\n",
    "task = NBackPMTask(nback,num_og_tokens,num_pm_trials,edim_og,edim_pm,focal=True)\n",
    "xseq,yseq = task.gen_seq(seqlen)\n",
    "xseq == task.pm_token\n"
   ]
  },
  {
   "cell_type": "code",
   "execution_count": 9,
   "metadata": {},
   "outputs": [
    {
     "name": "stdout",
     "output_type": "stream",
     "text": [
      "0.0\n",
      "torch.Size([25, 1])\n",
      "torch.Size([25, 1, 5]) torch.Size([25, 1])\n",
      "torch.Size([25, 1])\n",
      "torch.Size([25, 1, 5]) torch.Size([25, 1])\n",
      "0.2\n",
      "torch.Size([25, 1])\n",
      "torch.Size([25, 1, 5]) torch.Size([25, 1])\n",
      "torch.Size([25, 1])\n",
      "torch.Size([25, 1, 5]) torch.Size([25, 1])\n",
      "0.4\n",
      "torch.Size([25, 1])\n",
      "torch.Size([25, 1, 5]) torch.Size([25, 1])\n",
      "torch.Size([25, 1])\n",
      "torch.Size([25, 1, 5]) torch.Size([25, 1])\n",
      "0.6\n",
      "torch.Size([25, 1])\n",
      "torch.Size([25, 1, 5]) torch.Size([25, 1])\n",
      "torch.Size([25, 1])\n",
      "torch.Size([25, 1, 5]) torch.Size([25, 1])\n",
      "0.8\n",
      "torch.Size([25, 1])\n",
      "torch.Size([25, 1, 5]) torch.Size([25, 1])\n",
      "torch.Size([25, 1])\n",
      "torch.Size([25, 1, 5]) torch.Size([25, 1])\n"
     ]
    }
   ],
   "source": [
    "thresh = .99\n",
    "nepochs = 10\n",
    "L = -np.ones([nepochs])\n",
    "A = -np.ones([nepochs])\n",
    "E = -np.ones([nepochs])\n",
    "\n",
    "acc = 0\n",
    "nembeds = 0\n",
    "for ep in range(nepochs):\n",
    "  if ep%(nepochs/5)==0:\n",
    "    print(ep/nepochs)\n",
    "  # randomize emat\n",
    "  if acc>thresh:\n",
    "    task.sample_emat()\n",
    "    nembeds+=1\n",
    "  # generate data\n",
    "  x_seq,y_seq = task.gen_seq(seqlen)\n",
    "  x_embeds,ytarget = task.embed_seq(x_seq,y_seq)\n",
    "  # forward prop\n",
    "  yhat = net(x_embeds)\n",
    "  # collect loss through time\n",
    "  loss,acc = 0,0\n",
    "  for yh,yt in zip(yhat,ytarget):\n",
    "    loss += lossop(yh,yt)\n",
    "    acc += yt==tr.argmax(tr.softmax(yh,1))\n",
    "  acc = acc.numpy()/seqlen\n",
    "  # bp and update\n",
    "  optiop.zero_grad()\n",
    "  loss.backward()\n",
    "  optiop.step()\n",
    "  epoch_loss = loss.item()\n",
    "  L[ep] = epoch_loss\n",
    "  A[ep] = acc\n",
    "  E[ep] = nembeds"
   ]
  },
  {
   "cell_type": "markdown",
   "metadata": {},
   "source": [
    "### eval"
   ]
  },
  {
   "cell_type": "code",
   "execution_count": 88,
   "metadata": {},
   "outputs": [
    {
     "name": "stderr",
     "output_type": "stream",
     "text": [
      "[autoreload of PMmodel failed: Traceback (most recent call last):\n",
      "  File \"/Users/abeukers/anaconda/lib/python3.6/site-packages/IPython/extensions/autoreload.py\", line 247, in check\n",
      "    superreload(m, reload, self.old_objects)\n",
      "  File \"/Users/abeukers/wd/pm/PMmodel.py\", line 47\n",
      "    self.emat =\n",
      "               ^\n",
      "SyntaxError: invalid syntax\n",
      "]\n"
     ]
    }
   ],
   "source": [
    "seqlen = 15\n",
    "neps = 1500\n",
    "score = -np.ones([neps,seqlen])\n",
    "\n",
    "for ep in range(neps):\n",
    "  # embedding matrix\n",
    "  Emat = tr.FloatTensor(num_og_tokens+1,edim).uniform_(0,1)\n",
    "  # generate data\n",
    "  x_int,ytarget = task.gen_seq(seqlen,pm_trial_position=[5,9])\n",
    "  ytarget = tr.LongTensor(ytarget).unsqueeze(1)\n",
    "  # embed inputs\n",
    "  x_embeds = Emat[x_int]\n",
    "  x_embeds = x_embeds.unsqueeze(1)\n",
    "  # forward prop\n",
    "  yhat = net(x_embeds)\n",
    "  ep_score = (ytarget == tr.softmax(yhat,-1).argmax(-1)).float().squeeze()\n",
    "  score[ep] = ep_score \n",
    "\n"
   ]
  },
  {
   "cell_type": "code",
   "execution_count": 89,
   "metadata": {},
   "outputs": [
    {
     "data": {
      "text/plain": [
       "<matplotlib.lines.Line2D at 0x12dcb3dd8>"
      ]
     },
     "execution_count": 89,
     "metadata": {},
     "output_type": "execute_result"
    },
    {
     "data": {
      "image/png": "[encoded data removed]",
      "text/plain": [
       "<Figure size 432x288 with 1 Axes>"
      ]
     },
     "metadata": {},
     "output_type": "display_data"
    }
   ],
   "source": [
    "plt.plot(score.mean(0))\n",
    "plt.ylim(0,1.05)\n",
    "plt.axhline(.66,c='r',lw=.5,ls='--')"
   ]
  },
  {
   "cell_type": "code",
   "execution_count": 91,
   "metadata": {
    "scrolled": true
   },
   "outputs": [
    {
     "data": {
      "text/plain": [
       "array([[0.66037688, 0.99949   ],\n",
       "       [0.05628228, 0.15712528]])"
      ]
     },
     "execution_count": 91,
     "metadata": {},
     "output_type": "execute_result"
    }
   ],
   "source": []
  },
  {
   "cell_type": "code",
   "execution_count": null,
   "metadata": {},
   "outputs": [],
   "source": []
  }
 ],
 "metadata": {
  "kernelspec": {
   "display_name": "Python 3",
   "language": "python",
   "name": "python3"
  },
  "language_info": {
   "codemirror_mode": {
    "name": "ipython",
    "version": 3
   },
   "file_extension": ".py",
   "mimetype": "text/x-python",
   "name": "python",
   "nbconvert_exporter": "python",
   "pygments_lexer": "ipython3",
   "version": "3.6.5"
  }
 },
 "nbformat": 4,
 "nbformat_minor": 2
}
