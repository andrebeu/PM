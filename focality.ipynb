{
 "cells": [
  {
   "cell_type": "markdown",
   "metadata": {},
   "source": [
    "# Focality Branch\n",
    "- find a way of simulating focal vs non-focal tasks"
   ]
  },
  {
   "cell_type": "code",
   "execution_count": 1,
   "metadata": {},
   "outputs": [],
   "source": [
    "from glob import glob as glob\n",
    "import torch as tr\n",
    "import numpy as np\n",
    "\n",
    "from PMmodel import *\n",
    "\n",
    "from matplotlib import pyplot as plt\n",
    "%matplotlib inline\n",
    "\n",
    "%load_ext autoreload\n",
    "%reload_ext autoreload\n",
    "%autoreload 2"
   ]
  },
  {
   "cell_type": "code",
   "execution_count": 2,
   "metadata": {},
   "outputs": [],
   "source": [
    "seed = 1\n",
    "tr.manual_seed(seed)\n",
    "np.random.seed(seed)"
   ]
  },
  {
   "cell_type": "markdown",
   "metadata": {},
   "source": [
    "# load data"
   ]
  },
  {
   "cell_type": "code",
   "execution_count": 3,
   "metadata": {},
   "outputs": [],
   "source": [
    "def load_score(fpath,verb=False):\n",
    "  neps = 1500\n",
    "  teseqlen = 15\n",
    "  fpathL = glob('model_data/'+fpath)\n",
    "  if verb:\n",
    "    for i in fpathL: print(i)\n",
    "  nnets = len(fpathL)\n",
    "  score = -np.ones([nnets,neps,teseqlen])\n",
    "  for netn,fpath in enumerate(fpathL):\n",
    "    score[netn] = np.load(fpath)\n",
    "  return score\n",
    "\n",
    "og_trials = [4,5]\n",
    "pm_trials = [6,11]"
   ]
  },
  {
   "cell_type": "markdown",
   "metadata": {},
   "source": [
    "# train and eval script"
   ]
  },
  {
   "cell_type": "code",
   "execution_count": 4,
   "metadata": {},
   "outputs": [],
   "source": [
    "## task\n",
    "nback=1\n",
    "ntokens_og=3\n",
    "num_pm_trials=5 \n",
    "edim_og=4\n",
    "edim_pm=4\n",
    "focal=False\n",
    "trseqlen = 20\n",
    "pm_weight = 1\n",
    "\n",
    "## network\n",
    "indim = edim_og+edim_pm\n",
    "stsize = 30 #\n",
    "batch=1\n",
    "outdim=3\n",
    "EM=0"
   ]
  },
  {
   "cell_type": "code",
   "execution_count": 5,
   "metadata": {
    "scrolled": true
   },
   "outputs": [
    {
     "data": {
      "text/plain": [
       "PMNet(\n",
       "  (ff_in): Linear(in_features=8, out_features=30, bias=True)\n",
       "  (relu_in): ReLU()\n",
       "  (cell): LSTMCell(30, 30)\n",
       "  (ff_out1): Linear(in_features=30, out_features=30, bias=True)\n",
       "  (relu_out): ReLU()\n",
       "  (ff_out2): Linear(in_features=30, out_features=3, bias=True)\n",
       "  (rgate): Linear(in_features=30, out_features=30, bias=True)\n",
       "  (sigm): Tanh()\n",
       ")"
      ]
     },
     "execution_count": 5,
     "metadata": {},
     "output_type": "execute_result"
    }
   ],
   "source": [
    "# model and task\n",
    "net = PMNet(indim,stsize,outdim,EM)\n",
    "task = NBackPMTask(nback,ntokens_og,num_pm_trials,edim_og,edim_pm,focal,seed)\n",
    "net"
   ]
  },
  {
   "cell_type": "markdown",
   "metadata": {},
   "source": [
    "### train"
   ]
  },
  {
   "cell_type": "code",
   "execution_count": null,
   "metadata": {},
   "outputs": [],
   "source": [
    "def train(net,task,nepochs=1000,thresh=.9,pm_weight=1):\n",
    "  weight=tr.FloatTensor([1,1,pm_weight])\n",
    "  print(weight)\n",
    "  lossop = tr.nn.CrossEntropyLoss()\n",
    "  optiop = tr.optim.Adam(net.parameters(), lr=0.0005)\n",
    "  L = -np.ones([nepochs])\n",
    "  A = -np.ones([nepochs])\n",
    "  E = -np.ones([nepochs])\n",
    "  acc,nembeds = 0,0\n",
    "  for ep in range(nepochs):\n",
    "    if ep%(nepochs/5)==0:\n",
    "      print(ep/nepochs,nembeds)\n",
    "    # randomize emat\n",
    "    if acc>thresh:\n",
    "      task.sample_emat()\n",
    "      nembeds+=1\n",
    "    # generate data\n",
    "    x_seq,y_seq = task.gen_seq(trseqlen)\n",
    "    x_embeds,ytarget = task.embed_seq(x_seq,y_seq)\n",
    "    # forward prop\n",
    "    yhat = net(x_embeds)\n",
    "    # collect loss through time\n",
    "    loss,acc = 0,0\n",
    "    for tstep,(yh,yt) in enumerate(zip(yhat,ytarget)):\n",
    "      loss += weight[yt]*lossop(yh,yt)\n",
    "      acc += yt==tr.argmax(tr.softmax(yh,1))\n",
    "    acc = acc.numpy()/len(yhat)\n",
    "    # bp and update\n",
    "    optiop.zero_grad()\n",
    "    loss.backward()\n",
    "    optiop.step()\n",
    "    epoch_loss = loss.item()\n",
    "    L[ep] = epoch_loss\n",
    "    A[ep] = acc\n",
    "    E[ep] = nembeds\n",
    "  return net\n",
    "\n",
    "def eval_(net,task,neps=1500,teseqlen=15,verb=False):\n",
    "  score = -np.ones([neps,teseqlen])\n",
    "  rgate = -np.ones([neps,teseqlen,net.stsize])\n",
    "  for ep in range(neps):\n",
    "    # embedding matrix\n",
    "    task.sample_emat()\n",
    "    # generate data\n",
    "    x_seq,y_seq = task.gen_seq(teseqlen,pm_trial_position=[5,9])\n",
    "    x_embeds,ytarget = task.embed_seq(x_seq,y_seq)\n",
    "    # forward prop\n",
    "    yhat = net(x_embeds)\n",
    "    if verb:\n",
    "      print(net.sim)\n",
    "      print(net.sim[(6,11),:])\n",
    "      print(net.sim[(1,2,3,4),:])\n",
    "      print(net.rgate_act.shape)\n",
    "    ep_score = (ytarget == tr.softmax(yhat,-1).argmax(-1)).float().squeeze()\n",
    "    score[ep] = ep_score \n",
    "    rgate[ep] = net.rgate_act.detach().numpy()\n",
    "  return score,rgate\n"
   ]
  },
  {
   "cell_type": "code",
   "execution_count": null,
   "metadata": {},
   "outputs": [
    {
     "name": "stdout",
     "output_type": "stream",
     "text": [
      "tensor([1., 1., 1.])\n",
      "0.0 0\n",
      "0.2 240\n"
     ]
    }
   ],
   "source": [
    "net = train(net,task,nepochs=100000,pm_weight=pm_weight)"
   ]
  },
  {
   "cell_type": "code",
   "execution_count": null,
   "metadata": {},
   "outputs": [],
   "source": [
    "score,rgate = eval_(net,task,neps=500)"
   ]
  },
  {
   "cell_type": "code",
   "execution_count": null,
   "metadata": {},
   "outputs": [],
   "source": [
    "ax = plt.gca()\n",
    "\n",
    "ax.set_ylim(0,1.05)\n",
    "ax.plot(score.mean(0))\n",
    "ax.axhline(.66)\n",
    "ax2 = plt.twinx()\n",
    "ax2.plot(np.arange(1,15),rgate[:,1:].mean((0,2)),c='r')\n",
    "\n",
    "for t in [6,11]:\n",
    "  ax.axvline(t,c='purple')\n"
   ]
  }
 ],
 "metadata": {
  "kernelspec": {
   "display_name": "Python 3",
   "language": "python",
   "name": "python3"
  },
  "language_info": {
   "codemirror_mode": {
    "name": "ipython",
    "version": 3
   },
   "file_extension": ".py",
   "mimetype": "text/x-python",
   "name": "python",
   "nbconvert_exporter": "python",
   "pygments_lexer": "ipython3",
   "version": "3.6.5"
  }
 },
 "nbformat": 4,
 "nbformat_minor": 2
}
