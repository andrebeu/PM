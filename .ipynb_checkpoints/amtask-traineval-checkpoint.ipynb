{
 "cells": [
  {
   "cell_type": "code",
   "execution_count": null,
   "metadata": {},
   "outputs": [],
   "source": [
    "import torch as tr\n",
    "import numpy as np\n",
    "\n",
    "import itertools\n",
    "\n",
    "from PM_models import *\n",
    "from PM_tasks import *\n",
    "from help_amtask import *\n",
    "\n",
    "import seaborn as sns\n",
    "from matplotlib import pyplot as plt\n",
    "%matplotlib inline\n",
    "\n",
    "%load_ext autoreload\n",
    "%reload_ext autoreload\n",
    "%autoreload 2"
   ]
  },
  {
   "cell_type": "code",
   "execution_count": null,
   "metadata": {},
   "outputs": [],
   "source": [
    "# loop params\n",
    "wmsize = 4\n",
    "nmaps = 6\n",
    "switch = 1\n",
    "ntrials = 2\n",
    "seed = 1\n",
    "\n",
    "# net params\n",
    "emsetting = 1\n",
    "instdim = 10\n",
    "stimdim = 12\n",
    "emk_weights = [1,.0005]\n",
    "\n",
    "# init\n",
    "net = NetBarCode(\n",
    "        wmsize=wmsize,\n",
    "        emsetting=emsetting,\n",
    "        seed=seed,\n",
    "        instdim=instdim,\n",
    "        stimdim=stimdim,\n",
    "        init_emkw=emk_weights,\n",
    "        debug=False\n",
    ")\n",
    "task = TaskArbitraryMaps(\n",
    "          nmaps=nmaps,\n",
    "          switchmaps=switch,\n",
    "          ntokens_surplus=0,\n",
    "          seed=seed,\n",
    "          stimdim=stimdim\n",
    ")"
   ]
  },
  {
   "cell_type": "code",
   "execution_count": null,
   "metadata": {},
   "outputs": [],
   "source": [
    "# train params\n",
    "neps_tr = 1000\n",
    "trlen_tr = 10\n",
    "ntrials_tr = 2\n",
    "trsc = run_net(net,task,neps_tr,ntrials_tr,trlen_tr,training=True,verb=True,return_states=False)"
   ]
  }
 ],
 "metadata": {
  "kernelspec": {
   "display_name": "Python 3",
   "language": "python",
   "name": "python3"
  },
  "language_info": {
   "codemirror_mode": {
    "name": "ipython",
    "version": 3
   },
   "file_extension": ".py",
   "mimetype": "text/x-python",
   "name": "python",
   "nbconvert_exporter": "python",
   "pygments_lexer": "ipython3",
   "version": "3.7.3"
  }
 },
 "nbformat": 4,
 "nbformat_minor": 2
}
