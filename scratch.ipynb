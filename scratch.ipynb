{
 "cells": [
  {
   "cell_type": "code",
   "execution_count": 1,
   "metadata": {},
   "outputs": [],
   "source": [
    "import numpy as np\n",
    "import torch as tr\n"
   ]
  },
  {
   "cell_type": "code",
   "execution_count": 110,
   "metadata": {},
   "outputs": [
    {
     "data": {
      "text/plain": [
       "array([1, 2, 4, 3, 0, 3, 4, 1, 2, 0, 2, 3, 1, 4, 0])"
      ]
     },
     "execution_count": 110,
     "metadata": {},
     "output_type": "execute_result"
    }
   ],
   "source": [
    "ntrials=3\n",
    "pmtokens=4\n",
    "np.concatenate([\n",
    "  np.concatenate([\n",
    "    np.random.permutation(np.arange(1,pmtokens+1)),\n",
    "    [0]\n",
    "  ])\n",
    "for i in range(ntrials)])"
   ]
  },
  {
   "cell_type": "code",
   "execution_count": 167,
   "metadata": {},
   "outputs": [
    {
     "name": "stdout",
     "output_type": "stream",
     "text": [
      "[1 2 4 3 1 2 4 1 3 1 1 3 2 4 3]\n",
      "[1 2 4 3 0 2 4 1 3 0 1 3 2 4 0]\n"
     ]
    }
   ],
   "source": [
    "enc_trials_2d = np.array([\n",
    "    np.random.permutation(np.arange(1,pmtokens+1)) \n",
    "    for i in range(ntrials)\n",
    "])\n",
    "resp_trials = np.random.randint(1,pmtokens+1,[ntrials,1])\n",
    "\n",
    "# trials = [enc_trials_2d,resp_trials]\n",
    "enc_trials_2d.shape,resp_trials.shape\n",
    "\n",
    "trials = np.concatenate([enc_trials_2d,resp_trials],1)\n",
    "tseq = np.concatenate([enc_trials_2d,np.zeros([ntrials,1])],1).astype(int)\n",
    "xseq = trials.reshape(-1)\n",
    "tseq = tseq.reshape(-1)\n",
    "\n",
    "## \n",
    "print(trials)\n",
    "print(tseq)"
   ]
  },
  {
   "cell_type": "code",
   "execution_count": null,
   "metadata": {},
   "outputs": [],
   "source": []
  }
 ],
 "metadata": {
  "kernelspec": {
   "display_name": "Python 3",
   "language": "python",
   "name": "python3"
  },
  "language_info": {
   "codemirror_mode": {
    "name": "ipython",
    "version": 3
   },
   "file_extension": ".py",
   "mimetype": "text/x-python",
   "name": "python",
   "nbconvert_exporter": "python",
   "pygments_lexer": "ipython3",
   "version": "3.6.5"
  }
 },
 "nbformat": 4,
 "nbformat_minor": 2
}
