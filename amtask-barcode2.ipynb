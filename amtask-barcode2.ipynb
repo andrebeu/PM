{
 "cells": [
  {
   "cell_type": "markdown",
   "metadata": {},
   "source": [
    "### architectural modifications\n",
    "- explicit weighing of conjunctions in EM key\n",
    "    - stim_weight = 1, context_weight = 0.0005\n",
    "- EM value is taken from feed forward pathway \n",
    "\n",
    "#### consider\n",
    "- turn WM pathway off during test phase"
   ]
  },
  {
   "cell_type": "code",
   "execution_count": 1,
   "metadata": {},
   "outputs": [],
   "source": [
    "import torch as tr\n",
    "import numpy as np\n",
    "\n",
    "import itertools\n",
    "\n",
    "from PM_models import *\n",
    "from PM_tasks import *\n",
    "from help_amtask import *\n",
    "\n",
    "import seaborn as sns\n",
    "from matplotlib import pyplot as plt\n",
    "%matplotlib inline\n",
    "\n",
    "%load_ext autoreload\n",
    "%reload_ext autoreload\n",
    "%autoreload 2"
   ]
  },
  {
   "cell_type": "markdown",
   "metadata": {},
   "source": [
    "# global"
   ]
  },
  {
   "cell_type": "raw",
   "metadata": {},
   "source": [
    "declare -a nmaps_arr=(4 5 6)\n",
    "declare -a wmsize_arr=(4 5 6)\n",
    "declare -a ntrials_arr=(2 3)\n",
    "declare -a switch_arr=(1 0)"
   ]
  },
  {
   "cell_type": "code",
   "execution_count": 28,
   "metadata": {},
   "outputs": [],
   "source": [
    "wmsizeL = [4,5,6]\n",
    "nmapsL = [4,5,6]\n",
    "switchL = [1,0]\n",
    "ntrL = [2,3]"
   ]
  },
  {
   "cell_type": "markdown",
   "metadata": {},
   "source": [
    "# train acc\n"
   ]
  },
  {
   "cell_type": "code",
   "execution_count": 14,
   "metadata": {},
   "outputs": [],
   "source": [
    "def load_trsc_subj(wmsize,nmaps,switch,ntr,seed):\n",
    "  ''' [neps,ntrs,nmaps+trlen]\n",
    "  '''\n",
    "  fdir = 'model_data/amtask-barcode2/'\n",
    "  fpath = 'wmsize_%i-nmaps_%i-switch_%i-ntrials_%i-seed_%i.npy'%(wmsize,nmaps,switch,ntr,seed)\n",
    "  return np.load(fdir+fpath)\n",
    "\n",
    "def load_trsc(wmsize,nmaps,switch,ntr,nnets=20):\n",
    "  ''' returns [nsubs,neps,ntrs,nmaps+trlen]'''\n",
    "  L = []\n",
    "  for seed in range(nnets):\n",
    "    try:\n",
    "      trac_subj = load_trsc_subj(wmsize,nmaps,switch,ntr,seed)\n",
    "      L.append(trac_subj)\n",
    "    except:\n",
    "      continue\n",
    "  return np.array(L)"
   ]
  },
  {
   "cell_type": "code",
   "execution_count": null,
   "metadata": {},
   "outputs": [],
   "source": [
    "nnets_plt = 20\n",
    "cL = ['r','g','b']\n",
    "for wmsize,nmaps,switch,ntr in itertools.product(wmsizeL,nmapsL,switchL,ntrL):\n",
    "  plt.close('all')\n",
    "  fig,axarr = plt.subplots(5,4,figsize=(20,12),sharex=True,sharey=True);axarr = axarr.reshape(-1)\n",
    "\n",
    "  for tr in range(ntr):\n",
    "    for sub in range(nnets_plt):\n",
    "      ax.set_title(sub)\n",
    "      ax = axarr[sub]\n",
    "      trsc = load_trsc_subj(wmsize,nmaps,switch,ntr,sub)\n",
    "      trac = mov_avg(trsc[:,tr,nmaps:],1000)\n",
    "      ax.plot(trac,c=cL[tr])\n",
    "      ax.set_ylim(.3,1.05)\n",
    "\n",
    "  fname = 'wmsize_%i-nmaps_%i-switch_%i-ntr_%i'%(wmsize,nmaps,switch,ntr)\n",
    "  plt.savefig('figures/amtask-barcodes2/trac/'+fname)"
   ]
  },
  {
   "cell_type": "markdown",
   "metadata": {},
   "source": [
    "# train & eval"
   ]
  },
  {
   "cell_type": "code",
   "execution_count": null,
   "metadata": {},
   "outputs": [],
   "source": [
    "emsetting=1\n",
    "wmsize=4\n",
    "instdim=10\n",
    "stimdim=12\n",
    "seed=2\n",
    "\n",
    "net = NetBarCode(\n",
    "        wmsize=wmsize,\n",
    "        emsetting=emsetting,\n",
    "        seed=seed,\n",
    "        instdim=instdim,\n",
    "        stimdim=stimdim,\n",
    "        debug=False)\n",
    "\n",
    "net.retrieve_mode = 'argmin'\n",
    "net.emk_weights = tr.nn.Parameter([1,0]) # stim,lstm\n",
    "\n",
    "nmaps = 4\n",
    "switch = 1\n",
    "\n",
    "task = TaskArbitraryMaps(\n",
    "          nmaps,\n",
    "          switchmaps=switch,\n",
    "          ntokens_surplus=0,\n",
    "          seed=seed,\n",
    "          stimdim=stimdim)"
   ]
  },
  {
   "cell_type": "code",
   "execution_count": 134,
   "metadata": {},
   "outputs": [
    {
     "name": "stdout",
     "output_type": "stream",
     "text": [
      "Parameter containing:\n",
      "tensor([1., 0.])\n",
      "0.0 0.0\n",
      "0.2 1.0\n",
      "0.4 1.0\n",
      "0.6 1.0\n",
      "0.8 1.0\n",
      "Parameter containing:\n",
      "tensor([1., 0.])\n"
     ]
    }
   ],
   "source": [
    "print(net.emk_weights)\n",
    "net.debug=False\n",
    "neps = 5000\n",
    "task.switchmaps = True\n",
    "trsc = run_net(net,task,neps,2,1,training=True,verb=True)\n",
    "trac = trsc[:,:,nmaps:].mean(2)\n",
    "print(net.emk_weights)"
   ]
  },
  {
   "cell_type": "code",
   "execution_count": 135,
   "metadata": {},
   "outputs": [
    {
     "data": {
      "image/png": "[encoded data removed]",
      "text/plain": [
       "<Figure size 432x288 with 1 Axes>"
      ]
     },
     "metadata": {
      "needs_background": "light"
     },
     "output_type": "display_data"
    }
   ],
   "source": [
    "for trtrac in trac.T:\n",
    "  plt.plot(mov_avg(trtrac,150))"
   ]
  },
  {
   "cell_type": "code",
   "execution_count": 117,
   "metadata": {},
   "outputs": [
    {
     "name": "stdout",
     "output_type": "stream",
     "text": [
      "Parameter containing:\n",
      "tensor([1., 0.])\n",
      "tensor(0.4360)\n",
      "tensor(0.1272)\n",
      "tensor(0.1346)\n",
      "tensor(0.5356)\n",
      "tensor(0.5356)\n",
      "0.0 0.8\n",
      "Parameter containing:\n",
      "tensor([1., 0.])\n"
     ]
    }
   ],
   "source": [
    "print(net.emk_weights)\n",
    "net.debug=True\n",
    "neps = 1\n",
    "task.switchmaps = True\n",
    "trsc = run_net(net,task,neps,1,1,training=True,verb=True)\n",
    "print(net.emk_weights)"
   ]
  },
  {
   "cell_type": "markdown",
   "metadata": {},
   "source": [
    "# sim funs"
   ]
  },
  {
   "cell_type": "code",
   "execution_count": 122,
   "metadata": {},
   "outputs": [
    {
     "data": {
      "text/plain": [
       "(-1, 1)"
      ]
     },
     "execution_count": 122,
     "metadata": {},
     "output_type": "execute_result"
    },
    {
     "data": {
      "image/png": "[encoded data removed]",
      "text/plain": [
       "<Figure size 432x288 with 1 Axes>"
      ]
     },
     "metadata": {
      "needs_background": "light"
     },
     "output_type": "display_data"
    }
   ],
   "source": [
    "''' softplus'''\n",
    "x = np.linspace(-5,5,100)\n",
    "for beta in [1,2,10]:\n",
    "  f = lambda x: (1/beta)*np.log((1+np.exp(beta*x)))\n",
    "  y = f(x)\n",
    "  plt.plot(x,y)\n",
    "plt.ylim(-1,1)\n"
   ]
  },
  {
   "cell_type": "code",
   "execution_count": 59,
   "metadata": {},
   "outputs": [
    {
     "name": "stderr",
     "output_type": "stream",
     "text": [
      "//anaconda3/lib/python3.7/site-packages/ipykernel_launcher.py:2: RuntimeWarning: invalid value encountered in log\n",
      "  \n"
     ]
    },
    {
     "data": {
      "text/plain": [
       "[<matplotlib.lines.Line2D at 0x1a2df0a518>]"
      ]
     },
     "execution_count": 59,
     "metadata": {},
     "output_type": "execute_result"
    },
    {
     "data": {
      "image/png": "[encoded data removed]",
      "text/plain": [
       "<Figure size 432x288 with 1 Axes>"
      ]
     },
     "metadata": {
      "needs_background": "light"
     },
     "output_type": "display_data"
    }
   ],
   "source": [
    "\n",
    "x = np.linspace(-1,4,100)\n",
    "f = lambda x: -np.log(x)\n",
    "k = f(x)\n",
    "plt.plot(x,k)\n",
    "# pairwise_distances(x,em,metric='cosine').squeeze()"
   ]
  }
 ],
 "metadata": {
  "kernelspec": {
   "display_name": "Python 3",
   "language": "python",
   "name": "python3"
  },
  "language_info": {
   "codemirror_mode": {
    "name": "ipython",
    "version": 3
   },
   "file_extension": ".py",
   "mimetype": "text/x-python",
   "name": "python",
   "nbconvert_exporter": "python",
   "pygments_lexer": "ipython3",
   "version": "3.7.3"
  }
 },
 "nbformat": 4,
 "nbformat_minor": 2
}
