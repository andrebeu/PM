{
 "cells": [
  {
   "cell_type": "markdown",
   "metadata": {},
   "source": [
    "- train on shift=1, ntrials=2, nmaps=4, trlen=?,\n",
    "- eval on ntrials=2*(nmaps^2) - every possible instruction sequence twice\n",
    "- assess separation against PI buildup"
   ]
  },
  {
   "cell_type": "code",
   "execution_count": 1,
   "metadata": {},
   "outputs": [],
   "source": [
    "import torch as tr\n",
    "import numpy as np\n",
    "\n",
    "from PM_models import *\n",
    "from PM_tasks import *\n",
    "\n",
    "import seaborn as sns\n",
    "from matplotlib import pyplot as plt\n",
    "%matplotlib inline\n",
    "\n",
    "%load_ext autoreload\n",
    "%reload_ext autoreload\n",
    "%autoreload 2\n",
    "\n",
    "def mov_avg(arr,wind):\n",
    "  MA = -np.ones(len(arr)-wind)\n",
    "  for t in range(len(arr)-wind):\n",
    "    MA[t] = arr[t:t+wind].mean()\n",
    "  return MA"
   ]
  },
  {
   "cell_type": "code",
   "execution_count": 2,
   "metadata": {},
   "outputs": [],
   "source": [
    "maxsoftmax = lambda ulog: tr.argmax(tr.softmax(ulog,-1),-1)\n",
    "\n",
    "def run_net(net,task,neps,ntrials,trlen,training=True):\n",
    "  '''\n",
    "  returns score [neps,ntrials,nmaps+trlen]\n",
    "  '''\n",
    "  lossop = tr.nn.CrossEntropyLoss()\n",
    "  optiop = tr.optim.Adam(net.parameters(), lr=0.001)\n",
    "  exp_len = ntrials*(task.nmaps+trlen)\n",
    "  score = -np.ones([neps,exp_len])\n",
    "  for ep in range(neps):\n",
    "    # forward prop\n",
    "    iseq,xseq,ytarget = task.gen_ep_data(ntrials,trlen)\n",
    "    yhat_ulog = net(iseq,xseq)\n",
    "    # eval\n",
    "    score_t = (maxsoftmax(yhat_ulog) == ytarget).numpy()\n",
    "    score[ep] = np.squeeze(score_t)\n",
    "    if training:\n",
    "      # backprop\n",
    "      loss = 0\n",
    "      for tstep in range(len(iseq)):\n",
    "        loss += lossop(yhat_ulog[tstep],ytarget[tstep])\n",
    "      optiop.zero_grad()\n",
    "      loss.backward(retain_graph=True)\n",
    "      optiop.step()\n",
    "  score = score.reshape(neps,ntrials,trlen+task.nmaps)\n",
    "  return score"
   ]
  },
  {
   "cell_type": "code",
   "execution_count": 3,
   "metadata": {},
   "outputs": [],
   "source": [
    "'''init net task'''\n",
    "seed = 0\n",
    "# task\n",
    "nmaps = 2\n",
    "ntokens_surplus = 0\n",
    "switchmaps = 1\n",
    "# net\n",
    "stsize = 20\n",
    "# wmsetting=1\n",
    "# emsetting=1\n",
    "\n",
    "# init\n",
    "# task = TaskArbitraryMaps(nmaps,switchmaps=switchmaps,ntokens_surplus=ntokens_surplus,seed=seed)\n",
    "# net = NetAMEM(stsize=stsize,emsetting=emsetting,wmsetting=wmsetting,seed=seed)"
   ]
  },
  {
   "cell_type": "code",
   "execution_count": 6,
   "metadata": {},
   "outputs": [
    {
     "data": {
      "text/plain": [
       "<matplotlib.legend.Legend at 0x1a1ec9d3c8>"
      ]
     },
     "execution_count": 6,
     "metadata": {},
     "output_type": "execute_result"
    },
    {
     "data": {
      "image/png": "[encoded data removed]",
      "text/plain": [
       "<Figure size 432x288 with 1 Axes>"
      ]
     },
     "metadata": {
      "needs_background": "light"
     },
     "output_type": "display_data"
    }
   ],
   "source": [
    "neps = 10000\n",
    "ntrials,trlen=2,15\n",
    "for em in [0,1]:\n",
    "  task = TaskArbitraryMaps(nmaps=nmaps,\n",
    "                           switchmaps=switchmaps,\n",
    "                           ntokens_surplus=ntokens_surplus,\n",
    "                           seed=seed)\n",
    "  net = NetAMEM(stsize=stsize,\n",
    "                emsetting=em,\n",
    "                wmsetting=1,\n",
    "                seed=seed)\n",
    "  trsc = run_net(net,task,neps,ntrials,trlen,training=True)\n",
    "  tracc = trsc.mean((1,2))\n",
    "  plt.plot(mov_avg(tracc,10),label=em)\n",
    "plt.ylim(0,1.05)\n",
    "plt.legend()"
   ]
  },
  {
   "cell_type": "code",
   "execution_count": 5,
   "metadata": {
    "scrolled": true
   },
   "outputs": [],
   "source": [
    "# ntrials_ev,trlen_ev = 20,5\n",
    "# neps_ev = 200\n",
    "# evsc = run_net(net,task,neps_ev,ntrials_ev,trlen_ev,training=False)\n",
    "# block_acc = evsc[:,:,task.nmaps:].mean((0,2))\n",
    "# plt.plot(block_acc)\n",
    "\n",
    "# evsc = evsc.reshape(neps_ev,ntrials_ev,trlen_ev+task.nmaps)\n",
    "# print(evsc.shape)\n",
    "# evacc = evsc[:,:,task.nmaps:].mean((0,2))\n",
    "# plt.plot(evacc)\n",
    "# task.nmaps"
   ]
  },
  {
   "cell_type": "code",
   "execution_count": 7,
   "metadata": {},
   "outputs": [
    {
     "ename": "NameError",
     "evalue": "name 'glob' is not defined",
     "output_type": "error",
     "traceback": [
      "\u001b[0;31m---------------------------------------------------------------------------\u001b[0m",
      "\u001b[0;31mNameError\u001b[0m                                 Traceback (most recent call last)",
      "\u001b[0;32m<ipython-input-7-460b407c9d2b>\u001b[0m in \u001b[0;36m<module>\u001b[0;34m\u001b[0m\n\u001b[0;32m----> 1\u001b[0;31m \u001b[0mglob\u001b[0m\u001b[0;34m\u001b[0m\u001b[0;34m\u001b[0m\u001b[0m\n\u001b[0m",
      "\u001b[0;31mNameError\u001b[0m: name 'glob' is not defined"
     ]
    }
   ],
   "source": [
    "fdir = 'model_data/amtask-sweep1/'\n",
    "fpath = 'lstm_20-em_1-nmaps_4-ntrials_1-trlen_30-ntoksurp_0-trsc.npy'"
   ]
  }
 ],
 "metadata": {
  "kernelspec": {
   "display_name": "Python 3",
   "language": "python",
   "name": "python3"
  },
  "language_info": {
   "codemirror_mode": {
    "name": "ipython",
    "version": 3
   },
   "file_extension": ".py",
   "mimetype": "text/x-python",
   "name": "python",
   "nbconvert_exporter": "python",
   "pygments_lexer": "ipython3",
   "version": "3.7.3"
  }
 },
 "nbformat": 4,
 "nbformat_minor": 2
}
