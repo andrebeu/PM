{
 "cells": [
  {
   "cell_type": "markdown",
   "metadata": {},
   "source": [
    "- train on shift=1, ntrials=2, nmaps=4, trlen=?,\n",
    "- eval on ntrials=2*(nmaps^2) - every possible instruction sequence twice\n",
    "- assess separation against PI buildup"
   ]
  },
  {
   "cell_type": "code",
   "execution_count": 1,
   "metadata": {},
   "outputs": [],
   "source": [
    "import torch as tr\n",
    "import numpy as np\n",
    "\n",
    "from PM_models import *\n",
    "from PM_tasks import *\n",
    "\n",
    "import seaborn as sns\n",
    "from matplotlib import pyplot as plt\n",
    "%matplotlib inline\n",
    "\n",
    "%load_ext autoreload\n",
    "%reload_ext autoreload\n",
    "%autoreload 2\n",
    "\n",
    "def mov_avg(arr,wind):\n",
    "  MA = -np.ones(len(arr)-wind)\n",
    "  for t in range(len(arr)-wind):\n",
    "    MA[t] = arr[t:t+wind].mean()\n",
    "  return MA"
   ]
  },
  {
   "cell_type": "code",
   "execution_count": 2,
   "metadata": {},
   "outputs": [],
   "source": [
    "maxsoftmax = lambda ulog: tr.argmax(tr.softmax(ulog,-1),-1)\n",
    "\n",
    "def run_net(net,task,neps,ntrials,trlen,training=True):\n",
    "  '''\n",
    "  returns score [neps,ntrials,nmaps+trlen]\n",
    "  '''\n",
    "  lossop = tr.nn.CrossEntropyLoss()\n",
    "  optiop = tr.optim.Adam(net.parameters(), lr=0.001)\n",
    "  exp_len = ntrials*(task.nmaps+trlen)\n",
    "  score = -np.ones([neps,exp_len])\n",
    "  for ep in range(neps):\n",
    "    # forward prop\n",
    "    iseq,xseq,ytarget = task.gen_ep_data(ntrials,trlen)\n",
    "    yhat_ulog = net(iseq,xseq)\n",
    "    # eval\n",
    "    score_t = (maxsoftmax(yhat_ulog) == ytarget).numpy()\n",
    "    score[ep] = np.squeeze(score_t)\n",
    "    if training:\n",
    "      loss = 0\n",
    "      for tstep in range(len(iseq)):\n",
    "        loss += lossop(yhat_ulog[tstep],ytarget[tstep])\n",
    "      optiop.zero_grad()\n",
    "      loss.backward(retain_graph=True)\n",
    "      optiop.step()\n",
    "  score = score.reshape(neps,ntrials,trlen+task.nmaps)\n",
    "  return score"
   ]
  },
  {
   "cell_type": "code",
   "execution_count": 48,
   "metadata": {},
   "outputs": [
    {
     "data": {
      "text/plain": [
       "<matplotlib.legend.Legend at 0x1a3010c9b0>"
      ]
     },
     "execution_count": 48,
     "metadata": {},
     "output_type": "execute_result"
    },
    {
     "data": {
      "image/png": "[encoded data removed]",
      "text/plain": [
       "<Figure size 432x288 with 1 Axes>"
      ]
     },
     "metadata": {
      "needs_background": "light"
     },
     "output_type": "display_data"
    }
   ],
   "source": [
    "## seed = np.random.randint(99)\n",
    "# task\n",
    "nmaps = 2\n",
    "ntokens_surplus = 0\n",
    "switchmaps = 1\n",
    "# net\n",
    "stsize = 30\n",
    "\n",
    "neps = 20000\n",
    "ntrials,trlen=1,10\n",
    "for em in [1]:\n",
    "  task = TaskArbitraryMaps(nmaps=nmaps,\n",
    "                           switchmaps=1,\n",
    "                           ntokens_surplus=0,\n",
    "                           seed=seed)\n",
    "  net = NetAMEM(stsize=stsize,\n",
    "                emsetting=em,\n",
    "                wmsetting=1,\n",
    "                seed=seed)\n",
    "  trsc = run_net(net,task,neps,ntrials,trlen,training=True)\n",
    "  tracc = trsc[:,:,nmaps:].mean((1,2))\n",
    "  plt.plot(mov_avg(tracc,10),label=em)\n",
    "  \n",
    "plt.ylim(0,1.05)\n",
    "plt.legend()"
   ]
  },
  {
   "cell_type": "code",
   "execution_count": 29,
   "metadata": {},
   "outputs": [],
   "source": [
    "ntr,trl,nm = 2,4,2\n",
    "task = TaskArbitraryMaps(nmaps=nm,switchmaps=1,ntokens_surplus=0,seed=0)\n"
   ]
  },
  {
   "cell_type": "code",
   "execution_count": 42,
   "metadata": {},
   "outputs": [
    {
     "name": "stdout",
     "output_type": "stream",
     "text": [
      "tensor(1) tensor(0.5488) tensor(1)\n",
      "tensor(2) tensor(0.8918) tensor(2)\n",
      "tensor(0) tensor(0.5488) tensor(1)\n",
      "tensor(0) tensor(0.5488) tensor(1)\n",
      "tensor(0) tensor(0.8918) tensor(2)\n",
      "tensor(0) tensor(0.8918) tensor(2)\n",
      "tensor(2) tensor(0.5488) tensor(2)\n",
      "tensor(1) tensor(0.8918) tensor(1)\n",
      "tensor(0) tensor(0.8918) tensor(1)\n",
      "tensor(0) tensor(0.5488) tensor(2)\n",
      "tensor(0) tensor(0.8918) tensor(1)\n",
      "tensor(0) tensor(0.8918) tensor(1)\n"
     ]
    }
   ],
   "source": [
    "iseq,xseq,yseq = task.gen_ep_data(ntr,trl)\n",
    "a = iseq[:,:].reshape(ntr,trl+nm)\n",
    "b = xseq[:,:,0].reshape(ntr,trl+nm)\n",
    "c = yseq.reshape(ntr,trl+nm)\n",
    "for i,j,k  in zip(a.flatten(),b.flatten(),c.flatten()):\n",
    "  print(i,j,k)\n"
   ]
  },
  {
   "cell_type": "code",
   "execution_count": 33,
   "metadata": {},
   "outputs": [],
   "source": [
    "net = NetAMEM(stsize=stsize,emsetting=em,wmsetting=1,seed=seed)"
   ]
  },
  {
   "cell_type": "code",
   "execution_count": 43,
   "metadata": {},
   "outputs": [
    {
     "name": "stdout",
     "output_type": "stream",
     "text": [
      "0 tensor([1]) tensor(0.5488)\n",
      "1 tensor([2]) tensor(0.8918)\n",
      "2 tensor([0]) tensor(0.5488)\n",
      "3 tensor([0]) tensor(0.5488)\n",
      "4 tensor([0]) tensor(0.8918)\n",
      "5 tensor([0]) tensor(0.8918)\n",
      "6 tensor([2]) tensor(0.5488)\n",
      "7 tensor([1]) tensor(0.8918)\n",
      "8 tensor([0]) tensor(0.8918)\n",
      "9 tensor([0]) tensor(0.5488)\n",
      "10 tensor([0]) tensor(0.8918)\n",
      "11 tensor([0]) tensor(0.8918)\n"
     ]
    }
   ],
   "source": [
    "yh = net(iseq,xseq)"
   ]
  },
  {
   "cell_type": "code",
   "execution_count": 5,
   "metadata": {
    "scrolled": true
   },
   "outputs": [],
   "source": [
    "'''eval'''\n",
    "# ntrials_ev,trlen_ev = 20,5\n",
    "# neps_ev = 200\n",
    "# evsc = run_net(net,task,neps_ev,ntrials_ev,trlen_ev,training=False)\n",
    "# block_acc = evsc[:,:,task.nmaps:].mean((0,2))\n",
    "# plt.plot(block_acc)\n",
    "\n",
    "# evsc = evsc.reshape(neps_ev,ntrials_ev,trlen_ev+task.nmaps)\n",
    "# print(evsc.shape)\n",
    "# evacc = evsc[:,:,task.nmaps:].mean((0,2))\n",
    "# plt.plot(evacc)\n",
    "# task.nmaps"
   ]
  },
  {
   "cell_type": "code",
   "execution_count": 58,
   "metadata": {},
   "outputs": [
    {
     "data": {
      "text/plain": [
       "['model_data/amtask-sweep1/lstm_20-em_0-nmaps_4-ntrials_2-trlen_20-ntoksurp_0-seed_0-trsc.npy',\n",
       " 'model_data/amtask-sweep1/lstm_20-em_0-nmaps_4-ntrials_2-trlen_20-ntoksurp_0-seed_1-trsc.npy']"
      ]
     },
     "execution_count": 58,
     "metadata": {},
     "output_type": "execute_result"
    },
    {
     "data": {
      "image/png": "[encoded data removed]",
      "text/plain": [
       "<Figure size 432x288 with 1 Axes>"
      ]
     },
     "metadata": {
      "needs_background": "light"
     },
     "output_type": "display_data"
    }
   ],
   "source": [
    "from glob import glob as glob\n",
    "fdir = 'model_data/amtask-sweep1/'\n",
    "em,nm,seed = 0,'*','*'\n",
    "ntr,trl='2','*'\n",
    "\n",
    "gfpath = 'lstm_20-em_%s-nmaps_%s-ntrials_%s-trlen_%s-ntoksurp_0-seed_%s-trsc.npy'%(em,nm,ntr,trl,seed)\n",
    "fpathL = glob(fdir+gfpath)\n",
    "for fpath in fpathL:\n",
    "  ac = np.load(fpath).mean((1,2))\n",
    "  plt.plot(mov_avg(ac,500))\n",
    "fpathL"
   ]
  }
 ],
 "metadata": {
  "kernelspec": {
   "display_name": "Python 3",
   "language": "python",
   "name": "python3"
  },
  "language_info": {
   "codemirror_mode": {
    "name": "ipython",
    "version": 3
   },
   "file_extension": ".py",
   "mimetype": "text/x-python",
   "name": "python",
   "nbconvert_exporter": "python",
   "pygments_lexer": "ipython3",
   "version": "3.7.3"
  }
 },
 "nbformat": 4,
 "nbformat_minor": 2
}
