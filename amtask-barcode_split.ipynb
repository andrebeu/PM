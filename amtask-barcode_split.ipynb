{
 "cells": [
  {
   "cell_type": "markdown",
   "metadata": {},
   "source": [
    "# weighted conjunctive EM keys"
   ]
  },
  {
   "cell_type": "code",
   "execution_count": 1,
   "metadata": {},
   "outputs": [],
   "source": [
    "import torch as tr\n",
    "import numpy as np\n",
    "\n",
    "import itertools\n",
    "\n",
    "from PM_models import *\n",
    "from PM_tasks import *\n",
    "from help_amtask import *\n",
    "\n",
    "import seaborn as sns\n",
    "from matplotlib import pyplot as plt\n",
    "%matplotlib inline\n",
    "\n",
    "%load_ext autoreload\n",
    "%reload_ext autoreload\n",
    "%autoreload 2"
   ]
  },
  {
   "cell_type": "code",
   "execution_count": 43,
   "metadata": {},
   "outputs": [],
   "source": [
    "nmapsL=[4,5,6]\n",
    "ntrialsL=[2]\n",
    "switchL=[1,0]\n",
    "wmsizeL=[4,5,6]\n",
    "fdir = 'model_data/amtask_barcode_split/'"
   ]
  },
  {
   "cell_type": "code",
   "execution_count": 3,
   "metadata": {},
   "outputs": [],
   "source": [
    "def load_states_subj(wmsize,nmaps,switch,ntrials,seed):\n",
    "  ''' \n",
    "  selects which state (c or h)\n",
    "  selects relevant timesteps (encoding,test,both)\n",
    "  reshapes to uncat trial and trlen dimensions\n",
    "  '''\n",
    "  hc = 0 \n",
    "  phase = 0 # 0:encoding,1:test,2:both\n",
    "  fpath = \"wmsize_%i-nmaps_%i-switch_%i-ntrials_%i-seed_%i-wm_emkw_0.000500-states.npy\"%(\n",
    "            wmsize,nmaps,switch,ntrials,seed)\n",
    "  try:\n",
    "    states_subj = np.load(fdir+fpath) # [neps,tsteps,hc,stsize]\n",
    "  except:\n",
    "    return None\n",
    "  neps,tsteps,_,stsize = states_subj.shape\n",
    "  # select h or c state\n",
    "  states_subj = states_subj[:,:,hc]\n",
    "  states_subj = states_subj.reshape(neps,ntrials,int(tsteps/ntrials),stsize)\n",
    "  if phase==0: # encoding phase\n",
    "    states_subj = states_subj[:,:,:nmaps]\n",
    "  elif phase==1: # test phase\n",
    "    states_subj = states_subj[:,:,nmaps:]\n",
    "  elif phase==2: # both\n",
    "    states_subj = states_subj[:]\n",
    "  return states_subj\n",
    "\n",
    "def load_trsc_subj(wmsize,nmaps,switch,ntrials,seed):\n",
    "  fpath = \"wmsize_%i-nmaps_%i-switch_%i-ntrials_%i-seed_%i-wm_emkw_0.000500-trsc.npy\"%(\n",
    "          wmsize,nmaps,switch,ntrials,seed)\n",
    "  try:\n",
    "    trsc_subj = np.load(fdir+fpath)\n",
    "  except:\n",
    "    return None\n",
    "  return trsc_subj\n",
    "\n",
    "def load_states(wmsize,nmaps,switch,ntrials,nnets):\n",
    "  L = []\n",
    "  for seed in range(nnets):\n",
    "    states_subj = load_states_subj(wmsize,nmaps,switch,ntrials,seed)\n",
    "    if type(states_subj) == type(None):\n",
    "      continue\n",
    "    L.append(states_subj)\n",
    "  return np.array(L)\n",
    "\n",
    "def load_trsc(wmsize,nmaps,switch,ntrials,nnets):\n",
    "  L = []\n",
    "  for seed in range(nnets):\n",
    "    trsc_subj = load_trsc_subj(wmsize,nmaps,switch,ntrials,seed)\n",
    "    if type(trsc_subj) == type(None):\n",
    "      continue\n",
    "    L.append(trsc_subj)\n",
    "  return np.array(L)"
   ]
  },
  {
   "cell_type": "code",
   "execution_count": 4,
   "metadata": {},
   "outputs": [],
   "source": [
    "# wmsize=4\n",
    "# nmaps=4\n",
    "# switch=1\n",
    "# ntrials=2\n",
    "# nnets=2\n",
    "# trsc = load_trsc(wmsize,nmaps,switch,ntrials,nnets)\n",
    "# states = load_states(wmsize,nmaps,switch,ntrials,nnets)"
   ]
  },
  {
   "cell_type": "markdown",
   "metadata": {},
   "source": [
    "# relate trac to tr1tr2 separation"
   ]
  },
  {
   "cell_type": "code",
   "execution_count": 39,
   "metadata": {},
   "outputs": [],
   "source": [
    "''' separation of tr1tr2 for each epoch'''\n",
    "\n",
    "def compute_separation(states_subj):\n",
    "  ''' states_subj [neps,ntrials,tsteps,stsize]\n",
    "  returns tr1tr2 separation for each epoch\n",
    "  '''\n",
    "  neps,ntrials,tsteps,stsize = states_subj.shape\n",
    "  sep_tr1tr2 = -np.ones(neps)\n",
    "  # loop over epochs\n",
    "  for ep in range(neps):\n",
    "    states_ep = states_subj[ep]\n",
    "    # select states from first two trials\n",
    "    states_tr1tr2 = states_ep[(0,1),:] \n",
    "    # cat trials on tsteps, compute between trial distances\n",
    "    states_tr1tr2 = states_tr1tr2.reshape(-1,stsize) \n",
    "    rdm_tr1tr2 = compute_rdm(states_tr1tr2)\n",
    "    # separation as mean off block rdm\n",
    "    sep_tr1tr2[ep] = rdm_tr1tr2[tsteps:,:tsteps].mean()\n",
    "  return sep_tr1tr2"
   ]
  },
  {
   "cell_type": "code",
   "execution_count": 40,
   "metadata": {},
   "outputs": [],
   "source": [
    "''' compute moving corr '''\n",
    "def mov_cor(trac_subj,sep_subj,wind=100):\n",
    "  ntsteps = len(trac_subj)\n",
    "  rho_subj = -np.ones(ntsteps-wind)\n",
    "  for idx in range(ntsteps-wind):\n",
    "    idx\n",
    "    rho,pval = pearsonr(trac_subj[idx:idx+wind],sep_subj[idx:idx+wind])\n",
    "    rho_subj[idx] = rho\n",
    "  return rho_subj"
   ]
  },
  {
   "cell_type": "code",
   "execution_count": null,
   "metadata": {},
   "outputs": [],
   "source": [
    "''' precompute and save moving window correlations '''"
   ]
  },
  {
   "cell_type": "code",
   "execution_count": null,
   "metadata": {},
   "outputs": [
    {
     "name": "stderr",
     "output_type": "stream",
     "text": [
      "//anaconda3/lib/python3.7/site-packages/scipy/stats/stats.py:3399: PearsonRConstantInputWarning: An input array is constant; the correlation coefficent is not defined.\n",
      "  warnings.warn(PearsonRConstantInputWarning())\n"
     ]
    }
   ],
   "source": [
    "# plt params\n",
    "nnets_plt = 20\n",
    "f = 2\n",
    "mawind = 10000\n",
    "for mawind in [500,10000]:\n",
    "\n",
    "  # wmsizeL,nmapsL,switchL,ntrialsL = [4],[4],[1],[2]\n",
    "\n",
    "  for wmsize,nmaps,switch,ntrials in itertools.product(wmsizeL,nmapsL,switchL,ntrialsL):\n",
    "\n",
    "    plt.close('all')\n",
    "    fig,axarr = plt.subplots(5,4,figsize=(20*f,10*f),sharex=True,sharey=True);axarr=axarr.reshape(-1)\n",
    "    title = \"mov_wind_%i-switch_%i-wmsize_%i-nmaps_%i-ntrials_%i-wm_emkw_0.000500\"%(\n",
    "                mawind,switch,wmsize,nmaps,ntrials,)\n",
    "    plt.suptitle(title)\n",
    "\n",
    "    for seed in range(nnets_plt):\n",
    "      ax = axarr[seed]\n",
    "      # load states and trsc\n",
    "      states_subj = load_states_subj(wmsize,nmaps,switch,ntrials,seed)\n",
    "      trsc_subj = load_trsc_subj(wmsize,nmaps,switch,ntrials,seed)\n",
    "      if type(trsc_subj)==None: continue\n",
    "      # compute sep and trac\n",
    "      sep_subj = compute_separation(states_subj)\n",
    "      sep_subj /= sep_subj.max()\n",
    "      trac_subj = trsc_subj[:,1,nmaps:].mean((-1))\n",
    "\n",
    "      # plot trac,sep\n",
    "      ax.plot(mov_avg(sep_subj,mawind),label='tr1tr2 sep')\n",
    "      ax.plot(mov_avg(trac_subj,mawind),label='tr2 acc')\n",
    "      # plotmoving correlation sep,trac\n",
    "      rho_subj = mov_cor(trac_subj,sep_subj,wind=mawind)\n",
    "      ax2 = ax.twinx()\n",
    "      ax2.plot(rho_subj,label='movcorr',c='purple',lw=.5)\n",
    "      ax2.set_ylim(-.5,1)\n",
    "      ax2.axhline(0,c='k',lw=.4)\n",
    "      # plot extra\n",
    "      ax.set_title(seed)\n",
    "      ax.set_ylim(0,1.02)\n",
    "      ax.axhline(1/nmaps,c='r',ls='--',lw=.4)\n",
    "    ax.legend(loc=4)\n",
    "    plt.savefig('figures/amtask-barcode_split/'+title+'.png')"
   ]
  },
  {
   "cell_type": "markdown",
   "metadata": {},
   "source": [
    "# train and eval"
   ]
  },
  {
   "cell_type": "code",
   "execution_count": 4,
   "metadata": {},
   "outputs": [],
   "source": [
    "from help_amtask import run_net"
   ]
  },
  {
   "cell_type": "code",
   "execution_count": 79,
   "metadata": {},
   "outputs": [],
   "source": [
    "wmsize = 4\n",
    "nmaps = 6\n",
    "switch = 1\n",
    "ntrials = 2\n",
    "seed = 1\n",
    "\n",
    "# net params\n",
    "emsetting = 1\n",
    "instdim = 10\n",
    "stimdim = 12\n",
    "emk_weights = [1,.0005]"
   ]
  },
  {
   "cell_type": "code",
   "execution_count": 80,
   "metadata": {},
   "outputs": [],
   "source": [
    "# init\n",
    "net = NetBarCode(\n",
    "        wmsize=wmsize,\n",
    "        emsetting=emsetting,\n",
    "        seed=seed,\n",
    "        instdim=instdim,\n",
    "        stimdim=stimdim,\n",
    "        init_emkw=emk_weights,\n",
    "        debug=False\n",
    ")\n",
    "task = TaskArbitraryMaps(\n",
    "          nmaps=nmaps,\n",
    "          switchmaps=switch,\n",
    "          ntokens_surplus=0,\n",
    "          seed=seed,\n",
    "          stimdim=stimdim\n",
    ")"
   ]
  },
  {
   "cell_type": "code",
   "execution_count": 81,
   "metadata": {},
   "outputs": [
    {
     "name": "stdout",
     "output_type": "stream",
     "text": [
      "0.0 0.0\n",
      "0.2 0.5625\n",
      "0.4 0.875\n",
      "0.6 0.9375\n",
      "0.8 0.96875\n"
     ]
    }
   ],
   "source": [
    "# train params\n",
    "neps_tr = 1000\n",
    "trlen_tr = 10\n",
    "ntrials_tr = 2\n",
    "trsc = run_net(net,task,neps_tr,ntrials_tr,trlen_tr,training=True,verb=True,return_states=False)"
   ]
  },
  {
   "cell_type": "code",
   "execution_count": 82,
   "metadata": {},
   "outputs": [
    {
     "data": {
      "text/plain": [
       "[<matplotlib.lines.Line2D at 0x1a927e7080>]"
      ]
     },
     "execution_count": 82,
     "metadata": {},
     "output_type": "execute_result"
    },
    {
     "data": {
      "image/png": "[encoded data removed]",
      "text/plain": [
       "<Figure size 432x288 with 1 Axes>"
      ]
     },
     "metadata": {
      "needs_background": "light"
     },
     "output_type": "display_data"
    }
   ],
   "source": [
    "plt.plot(trsc[:,:,nmaps:].mean((-1,-2)))"
   ]
  }
 ],
 "metadata": {
  "kernelspec": {
   "display_name": "Python 3",
   "language": "python",
   "name": "python3"
  }
 },
 "nbformat": 4,
 "nbformat_minor": 2
}
