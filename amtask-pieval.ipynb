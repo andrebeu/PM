{
 "cells": [
  {
   "cell_type": "markdown",
   "metadata": {},
   "source": [
    "# proactive interference during long evals\n"
   ]
  },
  {
   "cell_type": "code",
   "execution_count": 2,
   "metadata": {},
   "outputs": [],
   "source": [
    "import torch as tr\n",
    "import numpy as np\n",
    "\n",
    "import itertools\n",
    "\n",
    "from PM_models import *\n",
    "from PM_tasks import *\n",
    "from help_amtask import *\n",
    "\n",
    "import seaborn as sns\n",
    "from matplotlib import pyplot as plt\n",
    "%matplotlib inline\n",
    "\n",
    "%load_ext autoreload\n",
    "%reload_ext autoreload\n",
    "%autoreload 2"
   ]
  },
  {
   "cell_type": "code",
   "execution_count": 3,
   "metadata": {},
   "outputs": [],
   "source": [
    "nmapsL=[4,5,6,6]\n",
    "ntrialsL=[2,3]\n",
    "trlenL = [6,10]\n",
    "switchL=[1,0]\n",
    "wmsizeL=[4,6]"
   ]
  },
  {
   "cell_type": "code",
   "execution_count": 10,
   "metadata": {},
   "outputs": [],
   "source": [
    "fdir = 'model_data/amtask_pieval/'\n",
    "\n",
    "# copy pasted from amtask-barcode_split\n",
    "def load_states_subj(wmsize,nmaps,switch,ntrials,trlen,seed=0):\n",
    "  ''' \n",
    "  selects which state (c or h)\n",
    "  selects relevant timesteps (encoding,test,both)\n",
    "  reshapes to uncat trial and trlen dimensions\n",
    "  '''\n",
    "  hc = 0 \n",
    "  phase = 0 # 0:encoding,1:test,2:both\n",
    "  fpath = \"wmsize_%i-nmaps_%i-switch_%i-ntrials_%i-trlen_%i-seed_%i-wm_emkw_0.000500-states.npy\"%(\n",
    "              wmsize,nmaps,switch,ntrials,trlen,seed)\n",
    "  try:\n",
    "    states_subj = np.load(fdir+fpath) # [neps,tsteps,hc,stsize]\n",
    "  except:\n",
    "    return None\n",
    "  neps,tsteps,_,stsize = states_subj.shape\n",
    "  # select h or c state\n",
    "  states_subj = states_subj[:,:,hc]\n",
    "  states_subj = states_subj.reshape(neps,ntrials,int(tsteps/ntrials),stsize)\n",
    "  if phase==0: # encoding phase\n",
    "    states_subj = states_subj[:,:,:nmaps]\n",
    "  elif phase==1: # test phase\n",
    "    states_subj = states_subj[:,:,nmaps:]\n",
    "  elif phase==2: # both\n",
    "    states_subj = states_subj[:]\n",
    "  return states_subj\n",
    "\n",
    "def load_trsc_subj(wmsize,nmaps,switch,ntrials,trlen,seed=0):\n",
    "  fpath = \"wmsize_%i-nmaps_%i-switch_%i-ntrials_%i-trlen_%i-seed_%i-wm_emkw_0.000500-trsc.npy\"%(\n",
    "          wmsize,nmaps,switch,ntrials,trlen,seed)\n",
    "  try:\n",
    "    trsc_subj = np.load(fdir+fpath)\n",
    "  except:\n",
    "    return None\n",
    "  return trsc_subj\n",
    "\n",
    "def load_states(wmsize,nmaps,switch,ntrials,trlen,nnets=20):\n",
    "  L = []\n",
    "  for seed in range(nnets):\n",
    "    states_subj = load_states_subj(wmsize,nmaps,switch,ntrials,trlen,seed)\n",
    "    if type(states_subj) == type(None):\n",
    "      continue\n",
    "    L.append(states_subj)\n",
    "  return np.array(L)\n",
    "\n",
    "def load_trsc(wmsize,nmaps,switch,ntrials,trlen,nnets=20):\n",
    "  L = []\n",
    "  for seed in range(nnets):\n",
    "    trsc_subj = load_trsc_subj(wmsize,nmaps,switch,ntrials,trlen,seed)\n",
    "    if type(trsc_subj) == type(None):\n",
    "      continue\n",
    "    L.append(trsc_subj)\n",
    "  return np.array(L)\n",
    "\n",
    "def load_evsc_subj(wmsize,nmaps,switch,ntrials,trlen,seed=0):\n",
    "  fpath = \"wmsize_%i-nmaps_%i-switch_%i-ntrials_%i-trlen_%i-seed_%i-wm_emkw_0.000500-evsc.npy\"%(\n",
    "          wmsize,nmaps,switch,ntrials,trlen,seed)\n",
    "  try:\n",
    "    evsc_subj = np.load(fdir+fpath)\n",
    "  except:\n",
    "    return None\n",
    "  return evsc_subj\n",
    "\n",
    "def load_evsc(wmsize,nmaps,switch,ntrials,trlen,nnets=20):\n",
    "  L = []\n",
    "  for seed in range(nnets):\n",
    "    evsc_subj = load_evsc_subj(wmsize,nmaps,switch,ntrials,trlen,seed)\n",
    "    if type(evsc_subj) == type(None):\n",
    "      continue\n",
    "    L.append(evsc_subj)\n",
    "  return np.array(L)"
   ]
  },
  {
   "cell_type": "code",
   "execution_count": 18,
   "metadata": {
    "scrolled": true
   },
   "outputs": [
    {
     "name": "stdout",
     "output_type": "stream",
     "text": [
      "(1, 20, 10)\n",
      "(1, 20, 10)\n",
      "(1, 20, 10)\n",
      "(1, 20, 10)\n",
      "(1, 20, 10)\n",
      "(1, 20, 10)\n",
      "(1, 20, 10)\n",
      "(1, 20, 10)\n",
      "(1, 20, 10)\n",
      "(1, 20, 10)\n",
      "(1, 20, 10)\n",
      "(1, 20, 10)\n",
      "(1, 20, 10)\n",
      "(1, 20, 10)\n",
      "(1, 20, 10)\n",
      "(1, 20, 10)\n",
      "(1, 20, 10)\n",
      "(1, 20, 10)\n",
      "(1, 20, 10)\n",
      "(1, 20, 10)\n",
      "(1, 20, 10)\n",
      "(1, 20, 10)\n",
      "(1, 20, 10)\n",
      "(1, 20, 10)\n",
      "(1, 20, 10)\n",
      "(1, 20, 10)\n",
      "(1, 20, 10)\n",
      "(1, 20, 10)\n",
      "(1, 20, 10)\n",
      "(1, 20, 10)\n",
      "(1, 20, 10)\n",
      "(1, 20, 10)\n"
     ]
    },
    {
     "ename": "IndexError",
     "evalue": "too many indices for array",
     "output_type": "error",
     "traceback": [
      "\u001b[0;31m---------------------------------------------------------------------------\u001b[0m",
      "\u001b[0;31mIndexError\u001b[0m                                Traceback (most recent call last)",
      "\u001b[0;32m<ipython-input-18-598b88480080>\u001b[0m in \u001b[0;36m<module>\u001b[0;34m\u001b[0m\n\u001b[1;32m      2\u001b[0m   \u001b[0mwmsize\u001b[0m\u001b[0;34m,\u001b[0m\u001b[0mnmaps\u001b[0m\u001b[0;34m,\u001b[0m\u001b[0mswitch\u001b[0m\u001b[0;34m,\u001b[0m\u001b[0mntrials\u001b[0m\u001b[0;34m,\u001b[0m\u001b[0mtrlen\u001b[0m\u001b[0;34m\u001b[0m\u001b[0;34m\u001b[0m\u001b[0m\n\u001b[1;32m      3\u001b[0m   \u001b[0mevsc\u001b[0m \u001b[0;34m=\u001b[0m \u001b[0mload_evsc\u001b[0m\u001b[0;34m(\u001b[0m\u001b[0mwmsize\u001b[0m\u001b[0;34m,\u001b[0m\u001b[0mnmaps\u001b[0m\u001b[0;34m,\u001b[0m\u001b[0mswitch\u001b[0m\u001b[0;34m,\u001b[0m\u001b[0mntrials\u001b[0m\u001b[0;34m,\u001b[0m\u001b[0mtrlen\u001b[0m\u001b[0;34m,\u001b[0m\u001b[0mnnets\u001b[0m\u001b[0;34m=\u001b[0m\u001b[0;36m20\u001b[0m\u001b[0;34m)\u001b[0m\u001b[0;34m\u001b[0m\u001b[0;34m\u001b[0m\u001b[0m\n\u001b[0;32m----> 4\u001b[0;31m   \u001b[0mevac\u001b[0m \u001b[0;34m=\u001b[0m \u001b[0mevsc\u001b[0m\u001b[0;34m[\u001b[0m\u001b[0;34m:\u001b[0m\u001b[0;34m,\u001b[0m\u001b[0;34m:\u001b[0m\u001b[0;34m,\u001b[0m\u001b[0;34m:\u001b[0m\u001b[0;34m,\u001b[0m\u001b[0mnmaps\u001b[0m\u001b[0;34m:\u001b[0m\u001b[0;34m]\u001b[0m\u001b[0;34m.\u001b[0m\u001b[0mmean\u001b[0m\u001b[0;34m(\u001b[0m\u001b[0;36m1\u001b[0m\u001b[0;34m)\u001b[0m\u001b[0;34m\u001b[0m\u001b[0;34m\u001b[0m\u001b[0m\n\u001b[0m\u001b[1;32m      5\u001b[0m   \u001b[0mprint\u001b[0m\u001b[0;34m(\u001b[0m\u001b[0mevac\u001b[0m\u001b[0;34m.\u001b[0m\u001b[0mshape\u001b[0m\u001b[0;34m)\u001b[0m\u001b[0;34m\u001b[0m\u001b[0;34m\u001b[0m\u001b[0m\n",
      "\u001b[0;31mIndexError\u001b[0m: too many indices for array"
     ]
    }
   ],
   "source": [
    "for wmsize,nmaps,switch,ntrials,trlen in itertools.product(wmsizeL,nmapsL,switchL,ntrialsL,trlenL):\n",
    "  wmsize,nmaps,switch,ntrials,trlen\n",
    "  evsc = load_evsc(wmsize,nmaps,switch,ntrials,trlen,nnets=20)\n",
    "  evac = evsc[:,:,:,nmaps:].mean(1)\n",
    "  print(evac.shape)"
   ]
  },
  {
   "cell_type": "code",
   "execution_count": null,
   "metadata": {},
   "outputs": [],
   "source": []
  }
 ],
 "metadata": {
  "kernelspec": {
   "display_name": "Python 3",
   "language": "python",
   "name": "python3"
  },
  "language_info": {
   "codemirror_mode": {
    "name": "ipython",
    "version": 3
   },
   "file_extension": ".py",
   "mimetype": "text/x-python",
   "name": "python",
   "nbconvert_exporter": "python",
   "pygments_lexer": "ipython3",
   "version": "3.7.3"
  }
 },
 "nbformat": 4,
 "nbformat_minor": 2
}
