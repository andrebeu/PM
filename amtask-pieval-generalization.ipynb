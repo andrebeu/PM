{
 "cells": [
  {
   "cell_type": "code",
   "execution_count": 1,
   "metadata": {},
   "outputs": [],
   "source": [
    "import torch as tr\n",
    "import numpy as np\n",
    "\n",
    "import itertools\n",
    "\n",
    "from PM_models import *\n",
    "from PM_tasks import *\n",
    "from help_amtask import *\n",
    "\n",
    "import seaborn as sns\n",
    "from matplotlib import pyplot as plt\n",
    "%matplotlib inline\n",
    "\n",
    "%load_ext autoreload\n",
    "%reload_ext autoreload\n",
    "%autoreload 2"
   ]
  },
  {
   "cell_type": "code",
   "execution_count": 3,
   "metadata": {},
   "outputs": [],
   "source": [
    "def load_trsc_subj(wmsize,nmaps,switch,ntrials,trlen,seed=0):\n",
    "  fdir = 'model_data/amtask_pieval/'\n",
    "  fpath = \"wmsize_%i-nmaps_%i-switch_%i-ntrials_%i-trlen_%i-seed_%i-wm_emkw_0.000500-trsc.npy\"%(\n",
    "          wmsize,nmaps,switch,ntrials,trlen,seed)\n",
    "  try:\n",
    "    trsc_subj = np.load(fdir+fpath)\n",
    "  except:\n",
    "    return None\n",
    "  return trsc_subj\n",
    "\n",
    "def load_trsc(wmsize,nmaps,switch,ntrials,trlen,nnets=20):\n",
    "  L = []\n",
    "  for seed in range(nnets):\n",
    "    trsc_subj = load_trsc_subj(wmsize,nmaps,switch,ntrials,trlen,seed)\n",
    "    if type(trsc_subj) == type(None):\n",
    "      continue\n",
    "    L.append(trsc_subj)\n",
    "  return np.array(L)\n",
    "\n",
    "def load_evsc_subj(wmsize,nmaps,switch,ntrials,trlen,seed=0):\n",
    "  fdir = 'model_data/amtask_pieval/'\n",
    "  fpath = \"wmsize_%i-nmaps_%i-switch_%i-ntrials_%i-trlen_%i-seed_%i-wm_emkw_0.000500-evsc.npy\"%(\n",
    "          wmsize,nmaps,switch,ntrials,trlen,seed)\n",
    "  try:\n",
    "    evsc_subj = np.load(fdir+fpath)\n",
    "  except:\n",
    "    return None\n",
    "  return evsc_subj\n",
    "\n",
    "def load_evsc(wmsize,nmaps,switch,ntrials,trlen,nnets=20):\n",
    "  L = []\n",
    "  for seed in range(nnets):\n",
    "    evsc_subj = load_evsc_subj(wmsize,nmaps,switch,ntrials,trlen,seed)\n",
    "    if type(evsc_subj) == type(None):\n",
    "      continue\n",
    "    L.append(evsc_subj)\n",
    "  return np.array(L)"
   ]
  },
  {
   "cell_type": "code",
   "execution_count": 30,
   "metadata": {},
   "outputs": [
    {
     "data": {
      "text/plain": [
       "(20, 50000, 2, 14)"
      ]
     },
     "execution_count": 30,
     "metadata": {},
     "output_type": "execute_result"
    }
   ],
   "source": [
    "wmsize,nmaps = 4,4\n",
    "switch = 0\n",
    "ntrials = 2\n",
    "trlen = 10\n",
    "trsc = load_trsc(wmsize,nmaps,switch,ntrials,trlen,nnets=20)\n",
    "trsc.shape"
   ]
  },
  {
   "cell_type": "code",
   "execution_count": 32,
   "metadata": {},
   "outputs": [
    {
     "data": {
      "image/png": "[encoded data removed]",
      "text/plain": [
       "<Figure size 432x288 with 1 Axes>"
      ]
     },
     "metadata": {
      "needs_background": "light"
     },
     "output_type": "display_data"
    }
   ],
   "source": [
    "ep = -600\n",
    "trac = trsc[:,ep:ep+500,:,:].mean(1)\n",
    "net = 0\n",
    "for ac in trac[net]:\n",
    "  plt.plot(ac)"
   ]
  },
  {
   "cell_type": "code",
   "execution_count": null,
   "metadata": {},
   "outputs": [],
   "source": [
    "def load_net():\n",
    "  "
   ]
  }
 ],
 "metadata": {
  "kernelspec": {
   "display_name": "Python 3",
   "language": "python",
   "name": "python3"
  },
  "language_info": {
   "codemirror_mode": {
    "name": "ipython",
    "version": 3
   },
   "file_extension": ".py",
   "mimetype": "text/x-python",
   "name": "python",
   "nbconvert_exporter": "python",
   "pygments_lexer": "ipython3",
   "version": "3.7.3"
  }
 },
 "nbformat": 4,
 "nbformat_minor": 2
}
