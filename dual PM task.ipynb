{
 "cells": [
  {
   "cell_type": "code",
   "execution_count": 1,
   "metadata": {},
   "outputs": [],
   "source": [
    "from glob import glob as glob\n",
    "import itertools\n",
    "\n",
    "import torch as tr\n",
    "import numpy as np\n",
    "\n",
    "from PM_models import *\n",
    "from PM_tasks import *\n",
    "\n",
    "from matplotlib import pyplot as plt\n",
    "%matplotlib inline\n",
    "\n",
    "%load_ext autoreload\n",
    "%reload_ext autoreload\n",
    "%autoreload 2"
   ]
  },
  {
   "cell_type": "code",
   "execution_count": 2,
   "metadata": {},
   "outputs": [],
   "source": [
    "\n",
    "edim = 10\n",
    "ntokens = 60\n",
    "\"\"\" \n",
    "keep emats separate because pm and og stim might need to be reshuffled independently\n",
    "e.g. to manipulate PI, I'll want to reshuffle pm emat without affecting og emat\n",
    "\"\"\"\n",
    "emat = np.random.uniform(ntokens,edim)\n"
   ]
  },
  {
   "cell_type": "code",
   "execution_count": 16,
   "metadata": {},
   "outputs": [
    {
     "name": "stdout",
     "output_type": "stream",
     "text": [
      "3 3\n",
      "41 0\n",
      "39 0\n",
      "4 4\n",
      "39 0\n",
      "39 1\n",
      "17 0\n",
      "12 0\n",
      "12 1\n",
      "2 2\n",
      "25 0\n",
      "21 0\n",
      "24 0\n",
      "3 3\n",
      "12 0\n",
      "12 1\n",
      "42 0\n",
      "20 0\n",
      "21 0\n",
      "3 3\n"
     ]
    }
   ],
   "source": [
    "\"\"\" \n",
    "positive og trials is controled by \n",
    "num_og_tokens and add_positive_og_probes\n",
    "\"\"\"\n",
    "# og\n",
    "num_og_tokens = 60\n",
    "trial_len = 20\n",
    "num_back = 1\n",
    "add_positive_og_probes = 10\n",
    "# pm\n",
    "num_pms = 3\n",
    "pm_probes_per_trial = 5\n",
    "\n",
    "def gen_ep_data(num_back=1,trial_len=20,):\n",
    "  # sample OG stimulus sequence\n",
    "  stim_sequence = np.random.randint(10,num_og_tokens,trial_len)\n",
    "  # include positive OG trials\n",
    "  positive_og_probes = np.random.randint(0,trial_len,add_positive_og_probes)\n",
    "  for i in positive_og_probes:\n",
    "    stim_sequence[i] = stim_sequence[i-num_back]\n",
    "\n",
    "  # analyze stim_seq to produce resp_seq\n",
    "  response = (stim_sequence == np.roll(stim_sequence,num_back)).astype(int)\n",
    "  response[:num_back] = 0\n",
    "\n",
    "  # include pm trials\n",
    "  pm_probe_positions = np.random.randint(0,trial_len,pm_probes_per_trial)\n",
    "  for pm_probe_pos in sorted(pm_probe_positions):\n",
    "    # action\n",
    "    pm_action = np.random.choice(range(2,2+num_pms))\n",
    "    response[pm_probe_pos] = pm_action\n",
    "    if pm_probe_pos+num_back<trial_len:\n",
    "      response[pm_probe_pos+num_back] = 0\n",
    "    # stim\n",
    "    pm_stim = pm_action\n",
    "    stim_sequence[pm_probe_pos] = pm_stim\n",
    "  \n",
    "\n",
    "for s,r in zip(stim_sequence,response):\n",
    "  print(s,r)"
   ]
  },
  {
   "cell_type": "code",
   "execution_count": 22,
   "metadata": {},
   "outputs": [
    {
     "data": {
      "text/plain": [
       "{0: 0, 1: 1, 2: 2, 3: 3, 4: 4, 5: 5, 6: 6, 7: 7, 8: 8, 9: 9}"
      ]
     },
     "execution_count": 22,
     "metadata": {},
     "output_type": "execute_result"
    }
   ],
   "source": []
  }
 ],
 "metadata": {
  "kernelspec": {
   "display_name": "Python 3",
   "language": "python",
   "name": "python3"
  },
  "language_info": {
   "codemirror_mode": {
    "name": "ipython",
    "version": 3
   },
   "file_extension": ".py",
   "mimetype": "text/x-python",
   "name": "python",
   "nbconvert_exporter": "python",
   "pygments_lexer": "ipython3",
   "version": "3.6.5"
  }
 },
 "nbformat": 4,
 "nbformat_minor": 2
}
