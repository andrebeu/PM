{
 "cells": [
  {
   "cell_type": "code",
   "execution_count": 64,
   "metadata": {},
   "outputs": [
    {
     "name": "stdout",
     "output_type": "stream",
     "text": [
      "The autoreload extension is already loaded. To reload it, use:\n",
      "  %reload_ext autoreload\n"
     ]
    }
   ],
   "source": [
    "from glob import glob as glob\n",
    "import itertools\n",
    "\n",
    "import torch as tr\n",
    "import numpy as np\n",
    "\n",
    "from PM_models import *\n",
    "from PM_tasks import *\n",
    "from helperfuns_dualPM import *\n",
    "\n",
    "import seaborn as sns\n",
    "from matplotlib import pyplot as plt\n",
    "%matplotlib inline\n",
    "\n",
    "%load_ext autoreload\n",
    "%reload_ext autoreload\n",
    "%autoreload 2\n"
   ]
  },
  {
   "cell_type": "markdown",
   "metadata": {},
   "source": [
    "### train acc"
   ]
  },
  {
   "cell_type": "code",
   "execution_count": 65,
   "metadata": {},
   "outputs": [],
   "source": [
    "def load_tracc(stsize1,stsize2,ntrials):\n",
    "  L = []\n",
    "  fdir = 'model_data/dual_lstms_sweep1/'\n",
    "  for seed in range(20):\n",
    "    fpath = fdir+\"lstm1_%i-lstm2_%i-ntrials_%i-seed_%i-tracc.npy\" %(stsize1,stsize2,ntrials,seed)\n",
    "    L.append(np.load(fpath))\n",
    "  return np.array(L)\n",
    "    "
   ]
  },
  {
   "cell_type": "code",
   "execution_count": 66,
   "metadata": {},
   "outputs": [],
   "source": [
    "# load_tracc(15,30,1).shape"
   ]
  },
  {
   "cell_type": "code",
   "execution_count": 67,
   "metadata": {},
   "outputs": [],
   "source": [
    "import pandas as pd\n",
    "\n",
    "cols = ['acc','lstm1','lstm2','ntrials','seed']\n",
    "df = pd.DataFrame(columns=cols)\n",
    "data_dict = {}\n",
    "\n",
    "fdir = 'model_data/dual_lstms_sweep1/'\n",
    "\n",
    "stsize1L,stsize2L,ntrialsL,seedL = [15,20,25],[30,40,50],[1,2,3],np.arange(20)\n",
    "for stsize1,stsize2,ntrials,seed in itertools.product(stsize1L,stsize2L,ntrialsL,seedL):\n",
    "  fpath = fdir+\"lstm1_%i-lstm2_%i-ntrials_%i-seed_%i-tracc.npy\" %(stsize1,stsize2,ntrials,seed)\n",
    "  try:\n",
    "    tracc = np.load(fpath)\n",
    "  except:\n",
    "    continue\n",
    "  acc = tracc[-10000:].mean()\n",
    "  df_ = pd.DataFrame(np.array([[acc,stsize1,stsize2,ntrials,seed]]),columns=cols)\n",
    "  df = df.append(df_)\n",
    "  "
   ]
  },
  {
   "cell_type": "code",
   "execution_count": 68,
   "metadata": {},
   "outputs": [
    {
     "data": {
      "text/plain": [
       "{(15.0, 30.0, 1.0): (20, 5),\n",
       " (15.0, 30.0, 2.0): (20, 5),\n",
       " (15.0, 30.0, 3.0): (20, 5),\n",
       " (15.0, 40.0, 1.0): (20, 5),\n",
       " (15.0, 40.0, 2.0): (20, 5),\n",
       " (15.0, 40.0, 3.0): (20, 5),\n",
       " (15.0, 50.0, 1.0): (20, 5),\n",
       " (15.0, 50.0, 2.0): (20, 5),\n",
       " (15.0, 50.0, 3.0): (20, 5),\n",
       " (20.0, 30.0, 1.0): (20, 5),\n",
       " (20.0, 30.0, 2.0): (20, 5),\n",
       " (20.0, 30.0, 3.0): (20, 5),\n",
       " (20.0, 40.0, 1.0): (20, 5),\n",
       " (20.0, 40.0, 2.0): (20, 5),\n",
       " (20.0, 40.0, 3.0): (20, 5),\n",
       " (20.0, 50.0, 1.0): (20, 5),\n",
       " (20.0, 50.0, 2.0): (20, 5),\n",
       " (20.0, 50.0, 3.0): (20, 5),\n",
       " (25.0, 30.0, 1.0): (20, 5),\n",
       " (25.0, 30.0, 2.0): (20, 5),\n",
       " (25.0, 30.0, 3.0): (20, 5),\n",
       " (25.0, 40.0, 1.0): (20, 5),\n",
       " (25.0, 40.0, 2.0): (20, 5),\n",
       " (25.0, 40.0, 3.0): (20, 5),\n",
       " (25.0, 50.0, 1.0): (20, 5),\n",
       " (25.0, 50.0, 2.0): (20, 5),\n",
       " (25.0, 50.0, 3.0): (20, 5)}"
      ]
     },
     "execution_count": 68,
     "metadata": {},
     "output_type": "execute_result"
    }
   ],
   "source": [
    "{i[0]:i[1].shape for i in df.groupby(['lstm1','lstm2','ntrials'])}"
   ]
  },
  {
   "cell_type": "code",
   "execution_count": 69,
   "metadata": {},
   "outputs": [
    {
     "data": {
      "image/png": "[encoded data removed]",
      "text/plain": [
       "<Figure size 1440x360 with 3 Axes>"
      ]
     },
     "metadata": {
      "needs_background": "light"
     },
     "output_type": "display_data"
    }
   ],
   "source": [
    "fig,axarr = plt.subplots(1,3,figsize=(20,5))\n",
    "for idx in [1,2,3]:\n",
    "  ax = axarr[idx-1]\n",
    "  sub_df = df[df['ntrials']==idx]\n",
    "  sns.barplot(data=sub_df,y='acc',x='lstm1',hue='lstm2',ax=ax,)\n",
    "  if idx!=1: \n",
    "    ax.get_legend().remove()\n",
    "  ax.set_ylim(0,1)\n",
    "  ax.grid(axis='y')\n",
    "  \n"
   ]
  },
  {
   "cell_type": "markdown",
   "metadata": {},
   "source": [
    "# Train"
   ]
  },
  {
   "cell_type": "code",
   "execution_count": 70,
   "metadata": {},
   "outputs": [],
   "source": [
    "def gen_data_fn(task,ntrials,trlen):\n",
    "  i,x,y = task.gen_ep_data(num_trials=ntrials,\n",
    "                           trial_len=trlen,\n",
    "                           pm_probe_positions=np.arange(trlen))\n",
    "  y = y.reshape(ntrials,trlen+nmaps)[:,nmaps:].reshape(-1,1)\n",
    "  return i,x,y\n"
   ]
  },
  {
   "cell_type": "code",
   "execution_count": null,
   "metadata": {},
   "outputs": [
    {
     "name": "stdout",
     "output_type": "stream",
     "text": [
      "two LSTM layers\n",
      "0.0 68.06299\n",
      "0.2 62.37195\n",
      "0.4 62.449703\n"
     ]
    }
   ],
   "source": [
    "## similar to a complex span task\n",
    "seed = 0\n",
    "nmaps = 8\n",
    "trlen = 30\n",
    "ntrials = 1\n",
    "\n",
    "L = []\n",
    "for ntrials in [1,2,3]:\n",
    "  trlen = int(30/ntrials)\n",
    "  net = NetDualLSTMToy(stsize1=10,stsize2=30,seed=seed)\n",
    "  task = TaskDualPM(num_back=1,nmaps=nmaps,seed=seed)\n",
    "  lam_gen_data_fn = lambda: gen_data_fn(task,ntrials,trlen)\n",
    "  tr_acc = train_net(net,task,neps=200000,gen_data_fn=lam_gen_data_fn,verb=True)\n",
    "  L.append(tr_acc)"
   ]
  },
  {
   "cell_type": "code",
   "execution_count": null,
   "metadata": {},
   "outputs": [],
   "source": [
    "for tracc in L:\n",
    "  plt.plot(mov_avg(tracc,200))"
   ]
  }
 ],
 "metadata": {
  "kernelspec": {
   "display_name": "Python 3",
   "language": "python",
   "name": "python3"
  },
  "language_info": {
   "codemirror_mode": {
    "name": "ipython",
    "version": 3
   },
   "file_extension": ".py",
   "mimetype": "text/x-python",
   "name": "python",
   "nbconvert_exporter": "python",
   "pygments_lexer": "ipython3",
   "version": "3.7.3"
  }
 },
 "nbformat": 4,
 "nbformat_minor": 2
}
