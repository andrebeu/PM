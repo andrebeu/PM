{
 "cells": [
  {
   "cell_type": "markdown",
   "metadata": {},
   "source": [
    "- train on shift=1, ntrials=2, nmaps=4, trlen=?,\n",
    "- eval on ntrials=2*(nmaps^2) - every possible instruction sequence twice\n",
    "- assess separation against PI buildup"
   ]
  },
  {
   "cell_type": "code",
   "execution_count": 58,
   "metadata": {},
   "outputs": [
    {
     "name": "stdout",
     "output_type": "stream",
     "text": [
      "The autoreload extension is already loaded. To reload it, use:\n",
      "  %reload_ext autoreload\n"
     ]
    }
   ],
   "source": [
    "import torch as tr\n",
    "import numpy as np\n",
    "\n",
    "import itertools\n",
    "\n",
    "from PM_models import *\n",
    "from PM_tasks import *\n",
    "\n",
    "import seaborn as sns\n",
    "from matplotlib import pyplot as plt\n",
    "%matplotlib inline\n",
    "\n",
    "%load_ext autoreload\n",
    "%reload_ext autoreload\n",
    "%autoreload 2\n",
    "\n",
    "def mov_avg(arr,wind):\n",
    "  MA = -np.ones(len(arr)-wind)\n",
    "  for t in range(len(arr)-wind):\n",
    "    MA[t] = arr[t:t+wind].mean()\n",
    "  return MA\n",
    "\n",
    "maxsoftmax = lambda ulog: tr.argmax(tr.softmax(ulog,-1),-1)"
   ]
  },
  {
   "cell_type": "markdown",
   "metadata": {},
   "source": [
    "# training data"
   ]
  },
  {
   "cell_type": "code",
   "execution_count": 124,
   "metadata": {
    "scrolled": true
   },
   "outputs": [
    {
     "name": "stdout",
     "output_type": "stream",
     "text": [
      "seed 0 final acc 0.29\n",
      "seed 1 final acc 1.0\n",
      "seed 2 final acc 0.46\n",
      "seed 3 final acc 0.29\n",
      "seed 4 final acc 0.29\n",
      "seed 5 final acc 0.46\n",
      "seed 6 final acc 0.25\n",
      "seed 7 final acc 0.38\n",
      "seed 8 final acc 0.38\n",
      "seed 9 final acc 0.42\n"
     ]
    }
   ],
   "source": [
    "def load_tracc(em,ntr,trlen,ntok,seed,mean='None'):\n",
    "  nm=4\n",
    "  fdir = 'model_data/amtask-sweep1/'\n",
    "  fpath = 'lstm_20-em_%s-nmaps_%s-ntrials_%s-trlen_%s-ntoksurp_%s-seed_%s-trsc.npy'%(em,nm,ntr,trlen,ntok,seed)\n",
    "  try:\n",
    "    trsc = np.load(fdir+fpath)\n",
    "  except:\n",
    "    print('err loading',fpath)\n",
    "    return None\n",
    "  if mean=='None':\n",
    "    return trsc.mean((1,2))\n",
    "  elif mean=='final':\n",
    "    return trsc[-100].mean().round(2)\n",
    "    \n",
    "for seed in range(10):\n",
    "  tracc = load_tracc(0,1,20,50,seed,mean='final')\n",
    "  print('seed',seed,'final acc',tracc)"
   ]
  },
  {
   "cell_type": "code",
   "execution_count": null,
   "metadata": {
    "scrolled": true
   },
   "outputs": [
    {
     "name": "stdout",
     "output_type": "stream",
     "text": [
      "err loading lstm_20-em_0-nmaps_4-ntrials_1-trlen_20-ntoksurp_50-seed_14-trsc.npy\n",
      "err loading lstm_20-em_0-nmaps_4-ntrials_1-trlen_20-ntoksurp_50-seed_15-trsc.npy\n",
      "err loading lstm_20-em_0-nmaps_4-ntrials_1-trlen_20-ntoksurp_50-seed_16-trsc.npy\n",
      "err loading lstm_20-em_0-nmaps_4-ntrials_1-trlen_20-ntoksurp_50-seed_17-trsc.npy\n",
      "err loading lstm_20-em_0-nmaps_4-ntrials_1-trlen_20-ntoksurp_50-seed_18-trsc.npy\n",
      "err loading lstm_20-em_0-nmaps_4-ntrials_1-trlen_20-ntoksurp_50-seed_19-trsc.npy\n",
      "err loading lstm_20-em_0-nmaps_4-ntrials_1-trlen_30-ntoksurp_50-seed_13-trsc.npy\n",
      "err loading lstm_20-em_0-nmaps_4-ntrials_1-trlen_30-ntoksurp_50-seed_14-trsc.npy\n",
      "err loading lstm_20-em_0-nmaps_4-ntrials_1-trlen_30-ntoksurp_50-seed_15-trsc.npy\n",
      "err loading lstm_20-em_0-nmaps_4-ntrials_1-trlen_30-ntoksurp_50-seed_16-trsc.npy\n",
      "err loading lstm_20-em_0-nmaps_4-ntrials_1-trlen_30-ntoksurp_50-seed_17-trsc.npy\n",
      "err loading lstm_20-em_0-nmaps_4-ntrials_1-trlen_30-ntoksurp_50-seed_18-trsc.npy\n",
      "err loading lstm_20-em_0-nmaps_4-ntrials_1-trlen_30-ntoksurp_50-seed_19-trsc.npy\n",
      "err loading lstm_20-em_0-nmaps_4-ntrials_1-trlen_40-ntoksurp_50-seed_12-trsc.npy\n",
      "err loading lstm_20-em_0-nmaps_4-ntrials_1-trlen_40-ntoksurp_50-seed_13-trsc.npy\n",
      "err loading lstm_20-em_0-nmaps_4-ntrials_1-trlen_40-ntoksurp_50-seed_14-trsc.npy\n",
      "err loading lstm_20-em_0-nmaps_4-ntrials_1-trlen_40-ntoksurp_50-seed_15-trsc.npy\n",
      "err loading lstm_20-em_0-nmaps_4-ntrials_1-trlen_40-ntoksurp_50-seed_16-trsc.npy\n",
      "err loading lstm_20-em_0-nmaps_4-ntrials_1-trlen_40-ntoksurp_50-seed_17-trsc.npy\n",
      "err loading lstm_20-em_0-nmaps_4-ntrials_1-trlen_40-ntoksurp_50-seed_18-trsc.npy\n",
      "err loading lstm_20-em_0-nmaps_4-ntrials_1-trlen_40-ntoksurp_50-seed_19-trsc.npy\n",
      "err loading lstm_20-em_0-nmaps_4-ntrials_2-trlen_20-ntoksurp_50-seed_11-trsc.npy\n",
      "err loading lstm_20-em_0-nmaps_4-ntrials_2-trlen_20-ntoksurp_50-seed_12-trsc.npy\n",
      "err loading lstm_20-em_0-nmaps_4-ntrials_2-trlen_20-ntoksurp_50-seed_13-trsc.npy\n",
      "err loading lstm_20-em_0-nmaps_4-ntrials_2-trlen_20-ntoksurp_50-seed_14-trsc.npy\n",
      "err loading lstm_20-em_0-nmaps_4-ntrials_2-trlen_20-ntoksurp_50-seed_15-trsc.npy\n",
      "err loading lstm_20-em_0-nmaps_4-ntrials_2-trlen_20-ntoksurp_50-seed_16-trsc.npy\n",
      "err loading lstm_20-em_0-nmaps_4-ntrials_2-trlen_20-ntoksurp_50-seed_17-trsc.npy\n",
      "err loading lstm_20-em_0-nmaps_4-ntrials_2-trlen_20-ntoksurp_50-seed_18-trsc.npy\n",
      "err loading lstm_20-em_0-nmaps_4-ntrials_2-trlen_20-ntoksurp_50-seed_19-trsc.npy\n",
      "err loading lstm_20-em_0-nmaps_4-ntrials_2-trlen_30-ntoksurp_50-seed_10-trsc.npy\n",
      "err loading lstm_20-em_0-nmaps_4-ntrials_2-trlen_30-ntoksurp_50-seed_11-trsc.npy\n",
      "err loading lstm_20-em_0-nmaps_4-ntrials_2-trlen_30-ntoksurp_50-seed_12-trsc.npy\n",
      "err loading lstm_20-em_0-nmaps_4-ntrials_2-trlen_30-ntoksurp_50-seed_13-trsc.npy\n",
      "err loading lstm_20-em_0-nmaps_4-ntrials_2-trlen_30-ntoksurp_50-seed_14-trsc.npy\n",
      "err loading lstm_20-em_0-nmaps_4-ntrials_2-trlen_30-ntoksurp_50-seed_15-trsc.npy\n",
      "err loading lstm_20-em_0-nmaps_4-ntrials_2-trlen_30-ntoksurp_50-seed_16-trsc.npy\n",
      "err loading lstm_20-em_0-nmaps_4-ntrials_2-trlen_30-ntoksurp_50-seed_17-trsc.npy\n",
      "err loading lstm_20-em_0-nmaps_4-ntrials_2-trlen_30-ntoksurp_50-seed_18-trsc.npy\n",
      "err loading lstm_20-em_0-nmaps_4-ntrials_2-trlen_30-ntoksurp_50-seed_19-trsc.npy\n",
      "err loading lstm_20-em_0-nmaps_4-ntrials_2-trlen_40-ntoksurp_50-seed_7-trsc.npy\n",
      "err loading lstm_20-em_0-nmaps_4-ntrials_2-trlen_40-ntoksurp_50-seed_8-trsc.npy\n",
      "err loading lstm_20-em_0-nmaps_4-ntrials_2-trlen_40-ntoksurp_50-seed_9-trsc.npy\n",
      "err loading lstm_20-em_0-nmaps_4-ntrials_2-trlen_40-ntoksurp_50-seed_10-trsc.npy\n",
      "err loading lstm_20-em_0-nmaps_4-ntrials_2-trlen_40-ntoksurp_50-seed_11-trsc.npy\n",
      "err loading lstm_20-em_0-nmaps_4-ntrials_2-trlen_40-ntoksurp_50-seed_12-trsc.npy\n",
      "err loading lstm_20-em_0-nmaps_4-ntrials_2-trlen_40-ntoksurp_50-seed_13-trsc.npy\n",
      "err loading lstm_20-em_0-nmaps_4-ntrials_2-trlen_40-ntoksurp_50-seed_14-trsc.npy\n",
      "err loading lstm_20-em_0-nmaps_4-ntrials_2-trlen_40-ntoksurp_50-seed_15-trsc.npy\n",
      "err loading lstm_20-em_0-nmaps_4-ntrials_2-trlen_40-ntoksurp_50-seed_16-trsc.npy\n",
      "err loading lstm_20-em_0-nmaps_4-ntrials_2-trlen_40-ntoksurp_50-seed_17-trsc.npy\n",
      "err loading lstm_20-em_0-nmaps_4-ntrials_2-trlen_40-ntoksurp_50-seed_18-trsc.npy\n",
      "err loading lstm_20-em_0-nmaps_4-ntrials_2-trlen_40-ntoksurp_50-seed_19-trsc.npy\n"
     ]
    }
   ],
   "source": [
    "emL = [0,1]\n",
    "ntrL = [1,2]\n",
    "trlenL = [20,30,40]\n",
    "ntokL = [0,50]\n",
    "\n",
    "xaxL = []\n",
    "accL = []\n",
    "for idx,(em,ntok,ntr,trlen) in enumerate(itertools.product(emL,ntokL,ntrL,trlenL)):\n",
    "  acc = []\n",
    "  for seed in range(20):\n",
    "    acc_net = load_tracc(em,ntr,trlen,ntok,seed,mean='final')\n",
    "    if type(acc_net)==type(None): continue\n",
    "    acc.append(acc_net)\n",
    "  xaxL.append((em,ntok,ntr,trlen))\n",
    "  accL.append(np.array(acc))\n"
   ]
  },
  {
   "cell_type": "code",
   "execution_count": null,
   "metadata": {},
   "outputs": [],
   "source": [
    "[a.shape for a in accL]"
   ]
  },
  {
   "cell_type": "code",
   "execution_count": null,
   "metadata": {},
   "outputs": [],
   "source": []
  },
  {
   "cell_type": "code",
   "execution_count": 150,
   "metadata": {},
   "outputs": [
    {
     "name": "stderr",
     "output_type": "stream",
     "text": [
      "//anaconda3/lib/python3.7/site-packages/ipykernel_launcher.py:1: RuntimeWarning: Mean of empty slice.\n",
      "  \"\"\"Entry point for launching an IPython kernel.\n",
      "//anaconda3/lib/python3.7/site-packages/numpy/core/_methods.py:140: RuntimeWarning: Degrees of freedom <= 0 for slice\n",
      "  keepdims=keepdims)\n",
      "//anaconda3/lib/python3.7/site-packages/numpy/core/_methods.py:110: RuntimeWarning: invalid value encountered in true_divide\n",
      "  arrmean, rcount, out=arrmean, casting='unsafe', subok=False)\n",
      "//anaconda3/lib/python3.7/site-packages/numpy/core/_methods.py:132: RuntimeWarning: invalid value encountered in double_scalars\n",
      "  ret = ret.dtype.type(ret / rcount)\n"
     ]
    }
   ],
   "source": [
    "mean_acc = [a.mean() for a in accL]\n",
    "std_acc = [a.std()/np.sqrt(len(a)) for a in accL]"
   ]
  },
  {
   "cell_type": "code",
   "execution_count": 151,
   "metadata": {},
   "outputs": [
    {
     "data": {
      "text/plain": [
       "[Text(0, 0, '0\\n 0\\n 1\\n 20'),\n",
       " Text(0, 0, '0\\n 0\\n 1\\n 30'),\n",
       " Text(0, 0, '0\\n 0\\n 1\\n 40'),\n",
       " Text(0, 0, '0\\n 0\\n 2\\n 20'),\n",
       " Text(0, 0, '0\\n 0\\n 2\\n 30'),\n",
       " Text(0, 0, '0\\n 0\\n 2\\n 40'),\n",
       " Text(0, 0, '0\\n 50\\n 1\\n 20'),\n",
       " Text(0, 0, '0\\n 50\\n 1\\n 30'),\n",
       " Text(0, 0, '0\\n 50\\n 1\\n 40'),\n",
       " Text(0, 0, '0\\n 50\\n 2\\n 20'),\n",
       " Text(0, 0, '0\\n 50\\n 2\\n 30')]"
      ]
     },
     "execution_count": 151,
     "metadata": {},
     "output_type": "execute_result"
    },
    {
     "data": {
      "image/png": "[encoded data removed]",
      "text/plain": [
       "<Figure size 432x288 with 1 Axes>"
      ]
     },
     "metadata": {
      "needs_background": "light"
     },
     "output_type": "display_data"
    }
   ],
   "source": [
    "ax = plt.gca()\n",
    "\n",
    "ax.bar(range(len(mean_acc)),mean_acc,yerr=std_acc)\n",
    "\n",
    "# xtick labels\n",
    "xaxLs = [\"\\n\".join(str(i)[1:-1].split(',')) for i in xaxL]\n",
    "ax.set_xticklabels(xaxLs)"
   ]
  },
  {
   "cell_type": "code",
   "execution_count": 123,
   "metadata": {},
   "outputs": [
    {
     "data": {
      "text/plain": [
       "array([], dtype=float64)"
      ]
     },
     "execution_count": 123,
     "metadata": {},
     "output_type": "execute_result"
    }
   ],
   "source": [
    "acc"
   ]
  },
  {
   "cell_type": "markdown",
   "metadata": {},
   "source": [
    "### eval with vs without EM"
   ]
  },
  {
   "cell_type": "code",
   "execution_count": 110,
   "metadata": {},
   "outputs": [
    {
     "data": {
      "text/plain": [
       "(5, 2, 10, 14)"
      ]
     },
     "execution_count": 110,
     "metadata": {},
     "output_type": "execute_result"
    }
   ],
   "source": [
    "def load_eval_data_subj(em,ntr,trlen,ntok,seed):\n",
    "  ''' returns evacc for [em0,em1]'''\n",
    "  fdir = 'model_data/amtask-sweep1_analysis/eval/'\n",
    "  L = []\n",
    "  for em_ev in [0,1]:\n",
    "    fpath = \"lstm_20-em_%i-nmaps_4-ntrials_%i-trlen_%i-ntoksurp_%i-seed_%i-em_ev_%i-evsc.npy\"%(\n",
    "      em,ntr,trlen,ntok,seed,em_ev)\n",
    "    try:\n",
    "      evacc = np.load(fdir+fpath).mean(0)\n",
    "    except:\n",
    "      print('not found',fpath)\n",
    "      return None\n",
    "    L.append(evacc)\n",
    "  return np.array(L)\n",
    "\n",
    "def load_eval_data(em,ntr,trlen,ntok,nnets=5):\n",
    "  ''' loop over subs, return evacc [sub,em_ev,ntr,trlen]'''\n",
    "  L = []\n",
    "  for seed in range(nnets):\n",
    "    evacc = load_eval_data_subj(em,ntr,trlen,ntok,seed)\n",
    "    if type(evacc) == type(None): continue\n",
    "    L.append(evacc)\n",
    "  return np.array(L)\n",
    "\n",
    "evacc = load_eval_data(em=0,ntr=1,trlen=20,ntok=0)\n",
    "evacc.shape"
   ]
  },
  {
   "cell_type": "markdown",
   "metadata": {},
   "source": [
    "## assessing PI build-up"
   ]
  },
  {
   "cell_type": "code",
   "execution_count": null,
   "metadata": {},
   "outputs": [],
   "source": [
    "evacc = load_eval_data(em=0,ntr=1,trlen=20,ntok=0)"
   ]
  },
  {
   "cell_type": "markdown",
   "metadata": {},
   "source": [
    "### plot em reliance for each group"
   ]
  },
  {
   "cell_type": "code",
   "execution_count": 61,
   "metadata": {},
   "outputs": [],
   "source": [
    "'''analysis funs'''\n",
    "\n",
    "def compute_em_reliance(net,ntr_ev,trlen_ev,neps_ev):\n",
    "  '''compute reliance on EM pathway\n",
    "  difference in acc between em=1 and em=0\n",
    "  '''\n",
    "  nmaps=4\n",
    "  task = TaskArbitraryMaps(nmaps=4,switchmaps=1,ntokens_surplus=0,seed=net.seed)\n",
    "  evacc = -np.ones([2,ntr_ev,nmaps+trlen_ev])\n",
    "  for em_ev in [0,1]:\n",
    "    net.EMsetting = em_ev\n",
    "    task = TaskArbitraryMaps(nmaps=4,switchmaps=1,ntokens_surplus=net.ntoksurp,seed=net.seed)\n",
    "    evsc = run_net(net,task,neps_ev,ntr_ev,trlen_ev,training=False)\n",
    "    evacc[em_ev] = evsc.mean(0)\n",
    "  evac_diff = evacc[1]-evacc[0]\n",
    "  return evac_diff"
   ]
  },
  {
   "cell_type": "code",
   "execution_count": 71,
   "metadata": {},
   "outputs": [],
   "source": [
    "def write_note(save_fpath,note):\n",
    "  with open(save_fpath,'w') as f:\n",
    "    f.write(note)\n",
    "    "
   ]
  },
  {
   "cell_type": "code",
   "execution_count": 76,
   "metadata": {},
   "outputs": [
    {
     "name": "stdout",
     "output_type": "stream",
     "text": [
      "0 1 20 0\n",
      "N= 20\n",
      "0 1 30 0\n",
      "N= 20\n",
      "0 1 40 0\n",
      "N= 20\n"
     ]
    },
    {
     "ename": "KeyboardInterrupt",
     "evalue": "",
     "output_type": "error",
     "traceback": [
      "\u001b[0;31m---------------------------------------------------------------------------\u001b[0m",
      "\u001b[0;31mKeyboardInterrupt\u001b[0m                         Traceback (most recent call last)",
      "\u001b[0;32m<ipython-input-76-3ebfac7edc49>\u001b[0m in \u001b[0;36m<module>\u001b[0;34m\u001b[0m\n\u001b[1;32m     18\u001b[0m   \u001b[0mnetL\u001b[0m \u001b[0;34m=\u001b[0m \u001b[0mload_netL\u001b[0m\u001b[0;34m(\u001b[0m\u001b[0memsetting\u001b[0m\u001b[0;34m,\u001b[0m\u001b[0mntrials\u001b[0m\u001b[0;34m,\u001b[0m\u001b[0mtrlen\u001b[0m\u001b[0;34m,\u001b[0m\u001b[0mtoksurp\u001b[0m\u001b[0;34m,\u001b[0m\u001b[0mnnets\u001b[0m\u001b[0;34m=\u001b[0m\u001b[0;36m20\u001b[0m\u001b[0;34m)\u001b[0m\u001b[0;34m\u001b[0m\u001b[0;34m\u001b[0m\u001b[0m\n\u001b[1;32m     19\u001b[0m   \u001b[0;32mfor\u001b[0m \u001b[0mnet\u001b[0m \u001b[0;32min\u001b[0m \u001b[0mnetL\u001b[0m\u001b[0;34m:\u001b[0m\u001b[0;34m\u001b[0m\u001b[0;34m\u001b[0m\u001b[0m\n\u001b[0;32m---> 20\u001b[0;31m     \u001b[0mnet_em_r\u001b[0m \u001b[0;34m=\u001b[0m \u001b[0mcompute_em_reliance\u001b[0m\u001b[0;34m(\u001b[0m\u001b[0mnet\u001b[0m\u001b[0;34m,\u001b[0m\u001b[0mntr_ev\u001b[0m\u001b[0;34m,\u001b[0m\u001b[0mtrlen_ev\u001b[0m\u001b[0;34m,\u001b[0m\u001b[0mneps_ev\u001b[0m\u001b[0;34m)\u001b[0m\u001b[0;34m\u001b[0m\u001b[0;34m\u001b[0m\u001b[0m\n\u001b[0m\u001b[1;32m     21\u001b[0m     \u001b[0mfpath\u001b[0m \u001b[0;34m=\u001b[0m \u001b[0;34m'em_reliance-em_%i-ntr_%i-trlen_%i-toksurp_%i-seed_%i'\u001b[0m\u001b[0;34m%\u001b[0m\u001b[0;34m(\u001b[0m\u001b[0memsetting\u001b[0m\u001b[0;34m,\u001b[0m\u001b[0mntrials\u001b[0m\u001b[0;34m,\u001b[0m\u001b[0mtrlen\u001b[0m\u001b[0;34m,\u001b[0m\u001b[0mtoksurp\u001b[0m\u001b[0;34m,\u001b[0m\u001b[0mnet\u001b[0m\u001b[0;34m.\u001b[0m\u001b[0mseed\u001b[0m\u001b[0;34m)\u001b[0m\u001b[0;34m\u001b[0m\u001b[0;34m\u001b[0m\u001b[0m\n\u001b[1;32m     22\u001b[0m     \u001b[0mnp\u001b[0m\u001b[0;34m.\u001b[0m\u001b[0msave\u001b[0m\u001b[0;34m(\u001b[0m\u001b[0mfdir_save\u001b[0m\u001b[0;34m+\u001b[0m\u001b[0mfpath\u001b[0m\u001b[0;34m,\u001b[0m\u001b[0mnet_em_r\u001b[0m\u001b[0;34m)\u001b[0m\u001b[0;34m\u001b[0m\u001b[0;34m\u001b[0m\u001b[0m\n",
      "\u001b[0;32m<ipython-input-61-0ca20fb5f102>\u001b[0m in \u001b[0;36mcompute_em_reliance\u001b[0;34m(net, ntr_ev, trlen_ev, neps_ev)\u001b[0m\n\u001b[1;32m     10\u001b[0m     \u001b[0mnet\u001b[0m\u001b[0;34m.\u001b[0m\u001b[0mEMsetting\u001b[0m \u001b[0;34m=\u001b[0m \u001b[0mem_ev\u001b[0m\u001b[0;34m\u001b[0m\u001b[0;34m\u001b[0m\u001b[0m\n\u001b[1;32m     11\u001b[0m     \u001b[0mtask\u001b[0m \u001b[0;34m=\u001b[0m \u001b[0mTaskArbitraryMaps\u001b[0m\u001b[0;34m(\u001b[0m\u001b[0mnmaps\u001b[0m\u001b[0;34m=\u001b[0m\u001b[0;36m4\u001b[0m\u001b[0;34m,\u001b[0m\u001b[0mswitchmaps\u001b[0m\u001b[0;34m=\u001b[0m\u001b[0;36m1\u001b[0m\u001b[0;34m,\u001b[0m\u001b[0mntokens_surplus\u001b[0m\u001b[0;34m=\u001b[0m\u001b[0;36m0\u001b[0m\u001b[0;34m,\u001b[0m\u001b[0mseed\u001b[0m\u001b[0;34m=\u001b[0m\u001b[0mnet\u001b[0m\u001b[0;34m.\u001b[0m\u001b[0mseed\u001b[0m\u001b[0;34m)\u001b[0m\u001b[0;34m\u001b[0m\u001b[0;34m\u001b[0m\u001b[0m\n\u001b[0;32m---> 12\u001b[0;31m     \u001b[0mevsc\u001b[0m \u001b[0;34m=\u001b[0m \u001b[0mrun_net\u001b[0m\u001b[0;34m(\u001b[0m\u001b[0mnet\u001b[0m\u001b[0;34m,\u001b[0m\u001b[0mtask\u001b[0m\u001b[0;34m,\u001b[0m\u001b[0mneps_ev\u001b[0m\u001b[0;34m,\u001b[0m\u001b[0mntr_ev\u001b[0m\u001b[0;34m,\u001b[0m\u001b[0mtrlen_ev\u001b[0m\u001b[0;34m,\u001b[0m\u001b[0mtraining\u001b[0m\u001b[0;34m=\u001b[0m\u001b[0;32mFalse\u001b[0m\u001b[0;34m)\u001b[0m\u001b[0;34m\u001b[0m\u001b[0;34m\u001b[0m\u001b[0m\n\u001b[0m\u001b[1;32m     13\u001b[0m     \u001b[0mevacc\u001b[0m\u001b[0;34m[\u001b[0m\u001b[0mem_ev\u001b[0m\u001b[0;34m]\u001b[0m \u001b[0;34m=\u001b[0m \u001b[0mevsc\u001b[0m\u001b[0;34m.\u001b[0m\u001b[0mmean\u001b[0m\u001b[0;34m(\u001b[0m\u001b[0;36m0\u001b[0m\u001b[0;34m)\u001b[0m\u001b[0;34m\u001b[0m\u001b[0;34m\u001b[0m\u001b[0m\n\u001b[1;32m     14\u001b[0m   \u001b[0mevac_diff\u001b[0m \u001b[0;34m=\u001b[0m \u001b[0mevacc\u001b[0m\u001b[0;34m[\u001b[0m\u001b[0;36m1\u001b[0m\u001b[0;34m]\u001b[0m\u001b[0;34m-\u001b[0m\u001b[0mevacc\u001b[0m\u001b[0;34m[\u001b[0m\u001b[0;36m0\u001b[0m\u001b[0;34m]\u001b[0m\u001b[0;34m\u001b[0m\u001b[0;34m\u001b[0m\u001b[0m\n",
      "\u001b[0;32m<ipython-input-3-d7dc5d1a3758>\u001b[0m in \u001b[0;36mrun_net\u001b[0;34m(net, task, neps, ntrials, trlen, training)\u001b[0m\n\u001b[1;32m     42\u001b[0m   \u001b[0;32mfor\u001b[0m \u001b[0mep\u001b[0m \u001b[0;32min\u001b[0m \u001b[0mrange\u001b[0m\u001b[0;34m(\u001b[0m\u001b[0mneps\u001b[0m\u001b[0;34m)\u001b[0m\u001b[0;34m:\u001b[0m\u001b[0;34m\u001b[0m\u001b[0;34m\u001b[0m\u001b[0m\n\u001b[1;32m     43\u001b[0m     \u001b[0;31m# forward prop\u001b[0m\u001b[0;34m\u001b[0m\u001b[0;34m\u001b[0m\u001b[0;34m\u001b[0m\u001b[0m\n\u001b[0;32m---> 44\u001b[0;31m     \u001b[0miseq\u001b[0m\u001b[0;34m,\u001b[0m\u001b[0mxseq\u001b[0m\u001b[0;34m,\u001b[0m\u001b[0mytarget\u001b[0m \u001b[0;34m=\u001b[0m \u001b[0mtask\u001b[0m\u001b[0;34m.\u001b[0m\u001b[0mgen_ep_data\u001b[0m\u001b[0;34m(\u001b[0m\u001b[0mntrials\u001b[0m\u001b[0;34m,\u001b[0m\u001b[0mtrlen\u001b[0m\u001b[0;34m)\u001b[0m\u001b[0;34m\u001b[0m\u001b[0;34m\u001b[0m\u001b[0m\n\u001b[0m\u001b[1;32m     45\u001b[0m     \u001b[0myhat_ulog\u001b[0m \u001b[0;34m=\u001b[0m \u001b[0mnet\u001b[0m\u001b[0;34m(\u001b[0m\u001b[0miseq\u001b[0m\u001b[0;34m,\u001b[0m\u001b[0mxseq\u001b[0m\u001b[0;34m)\u001b[0m\u001b[0;34m\u001b[0m\u001b[0;34m\u001b[0m\u001b[0m\n\u001b[1;32m     46\u001b[0m     \u001b[0;31m# eval\u001b[0m\u001b[0;34m\u001b[0m\u001b[0;34m\u001b[0m\u001b[0;34m\u001b[0m\u001b[0m\n",
      "\u001b[0;32m~/wd/pm/PM_tasks.py\u001b[0m in \u001b[0;36mgen_ep_data\u001b[0;34m(self, ntrials, trlen)\u001b[0m\n\u001b[1;32m     58\u001b[0m     i_encoding_input = np.array([\n\u001b[1;32m     59\u001b[0m         \u001b[0mnp\u001b[0m\u001b[0;34m.\u001b[0m\u001b[0mrandom\u001b[0m\u001b[0;34m.\u001b[0m\u001b[0mpermutation\u001b[0m\u001b[0;34m(\u001b[0m\u001b[0mnp\u001b[0m\u001b[0;34m.\u001b[0m\u001b[0marange\u001b[0m\u001b[0;34m(\u001b[0m\u001b[0;36m1\u001b[0m\u001b[0;34m,\u001b[0m\u001b[0mself\u001b[0m\u001b[0;34m.\u001b[0m\u001b[0mnmaps\u001b[0m\u001b[0;34m+\u001b[0m\u001b[0;36m1\u001b[0m\u001b[0;34m)\u001b[0m\u001b[0;34m)\u001b[0m\u001b[0;34m\u001b[0m\u001b[0;34m\u001b[0m\u001b[0m\n\u001b[0;32m---> 60\u001b[0;31m         \u001b[0;32mfor\u001b[0m \u001b[0mi\u001b[0m \u001b[0;32min\u001b[0m \u001b[0mrange\u001b[0m\u001b[0;34m(\u001b[0m\u001b[0mntrials\u001b[0m\u001b[0;34m)\u001b[0m\u001b[0;34m\u001b[0m\u001b[0;34m\u001b[0m\u001b[0m\n\u001b[0m\u001b[1;32m     61\u001b[0m     ])\n\u001b[1;32m     62\u001b[0m     \u001b[0mi_test_input\u001b[0m \u001b[0;34m=\u001b[0m \u001b[0mnp\u001b[0m\u001b[0;34m.\u001b[0m\u001b[0mzeros\u001b[0m\u001b[0;34m(\u001b[0m\u001b[0;34m[\u001b[0m\u001b[0mntrials\u001b[0m\u001b[0;34m,\u001b[0m\u001b[0mtrlen\u001b[0m\u001b[0;34m]\u001b[0m\u001b[0;34m)\u001b[0m\u001b[0;34m\u001b[0m\u001b[0;34m\u001b[0m\u001b[0m\n",
      "\u001b[0;32m~/wd/pm/PM_tasks.py\u001b[0m in \u001b[0;36m<listcomp>\u001b[0;34m(.0)\u001b[0m\n\u001b[1;32m     58\u001b[0m     i_encoding_input = np.array([\n\u001b[1;32m     59\u001b[0m         \u001b[0mnp\u001b[0m\u001b[0;34m.\u001b[0m\u001b[0mrandom\u001b[0m\u001b[0;34m.\u001b[0m\u001b[0mpermutation\u001b[0m\u001b[0;34m(\u001b[0m\u001b[0mnp\u001b[0m\u001b[0;34m.\u001b[0m\u001b[0marange\u001b[0m\u001b[0;34m(\u001b[0m\u001b[0;36m1\u001b[0m\u001b[0;34m,\u001b[0m\u001b[0mself\u001b[0m\u001b[0;34m.\u001b[0m\u001b[0mnmaps\u001b[0m\u001b[0;34m+\u001b[0m\u001b[0;36m1\u001b[0m\u001b[0;34m)\u001b[0m\u001b[0;34m)\u001b[0m\u001b[0;34m\u001b[0m\u001b[0;34m\u001b[0m\u001b[0m\n\u001b[0;32m---> 60\u001b[0;31m         \u001b[0;32mfor\u001b[0m \u001b[0mi\u001b[0m \u001b[0;32min\u001b[0m \u001b[0mrange\u001b[0m\u001b[0;34m(\u001b[0m\u001b[0mntrials\u001b[0m\u001b[0;34m)\u001b[0m\u001b[0;34m\u001b[0m\u001b[0;34m\u001b[0m\u001b[0m\n\u001b[0m\u001b[1;32m     61\u001b[0m     ])\n\u001b[1;32m     62\u001b[0m     \u001b[0mi_test_input\u001b[0m \u001b[0;34m=\u001b[0m \u001b[0mnp\u001b[0m\u001b[0;34m.\u001b[0m\u001b[0mzeros\u001b[0m\u001b[0;34m(\u001b[0m\u001b[0;34m[\u001b[0m\u001b[0mntrials\u001b[0m\u001b[0;34m,\u001b[0m\u001b[0mtrlen\u001b[0m\u001b[0;34m]\u001b[0m\u001b[0;34m)\u001b[0m\u001b[0;34m\u001b[0m\u001b[0;34m\u001b[0m\u001b[0m\n",
      "\u001b[0;32mmtrand.pyx\u001b[0m in \u001b[0;36mmtrand.RandomState.permutation\u001b[0;34m()\u001b[0m\n",
      "\u001b[0;32mmtrand.pyx\u001b[0m in \u001b[0;36mmtrand.RandomState.shuffle\u001b[0;34m()\u001b[0m\n",
      "\u001b[0;32m//anaconda3/lib/python3.7/site-packages/numpy/core/_internal.py\u001b[0m in \u001b[0;36m__init__\u001b[0;34m(self, array, ptr)\u001b[0m\n\u001b[1;32m    293\u001b[0m             \u001b[0mself\u001b[0m\u001b[0;34m.\u001b[0m\u001b[0m_ctypes\u001b[0m \u001b[0;34m=\u001b[0m \u001b[0mctypes\u001b[0m\u001b[0;34m\u001b[0m\u001b[0;34m\u001b[0m\u001b[0m\n\u001b[1;32m    294\u001b[0m             \u001b[0;31m# get a void pointer to the buffer, which keeps the array alive\u001b[0m\u001b[0;34m\u001b[0m\u001b[0;34m\u001b[0m\u001b[0;34m\u001b[0m\u001b[0m\n\u001b[0;32m--> 295\u001b[0;31m             \u001b[0mself\u001b[0m\u001b[0;34m.\u001b[0m\u001b[0m_data\u001b[0m \u001b[0;34m=\u001b[0m \u001b[0m_get_void_ptr\u001b[0m\u001b[0;34m(\u001b[0m\u001b[0marray\u001b[0m\u001b[0;34m)\u001b[0m\u001b[0;34m\u001b[0m\u001b[0;34m\u001b[0m\u001b[0m\n\u001b[0m\u001b[1;32m    296\u001b[0m             \u001b[0;32massert\u001b[0m \u001b[0mself\u001b[0m\u001b[0;34m.\u001b[0m\u001b[0m_data\u001b[0m\u001b[0;34m.\u001b[0m\u001b[0mvalue\u001b[0m \u001b[0;34m==\u001b[0m \u001b[0mptr\u001b[0m\u001b[0;34m\u001b[0m\u001b[0;34m\u001b[0m\u001b[0m\n\u001b[1;32m    297\u001b[0m         \u001b[0;32melse\u001b[0m\u001b[0;34m:\u001b[0m\u001b[0;34m\u001b[0m\u001b[0;34m\u001b[0m\u001b[0m\n",
      "\u001b[0;32m//anaconda3/lib/python3.7/site-packages/numpy/core/_internal.py\u001b[0m in \u001b[0;36m_get_void_ptr\u001b[0;34m(arr)\u001b[0m\n\u001b[1;32m    283\u001b[0m \u001b[0;34m\u001b[0m\u001b[0m\n\u001b[1;32m    284\u001b[0m     \u001b[0;31m# finally cast to void*\u001b[0m\u001b[0;34m\u001b[0m\u001b[0;34m\u001b[0m\u001b[0;34m\u001b[0m\u001b[0m\n\u001b[0;32m--> 285\u001b[0;31m     \u001b[0;32mreturn\u001b[0m \u001b[0mctypes\u001b[0m\u001b[0;34m.\u001b[0m\u001b[0mcast\u001b[0m\u001b[0;34m(\u001b[0m\u001b[0mctypes\u001b[0m\u001b[0;34m.\u001b[0m\u001b[0mpointer\u001b[0m\u001b[0;34m(\u001b[0m\u001b[0mc_arr\u001b[0m\u001b[0;34m)\u001b[0m\u001b[0;34m,\u001b[0m \u001b[0mctypes\u001b[0m\u001b[0;34m.\u001b[0m\u001b[0mc_void_p\u001b[0m\u001b[0;34m)\u001b[0m\u001b[0;34m\u001b[0m\u001b[0;34m\u001b[0m\u001b[0m\n\u001b[0m\u001b[1;32m    286\u001b[0m \u001b[0;34m\u001b[0m\u001b[0m\n\u001b[1;32m    287\u001b[0m \u001b[0;34m\u001b[0m\u001b[0m\n",
      "\u001b[0;32m//anaconda3/lib/python3.7/ctypes/__init__.py\u001b[0m in \u001b[0;36mcast\u001b[0;34m(obj, typ)\u001b[0m\n\u001b[1;32m    488\u001b[0m \u001b[0m_cast\u001b[0m \u001b[0;34m=\u001b[0m \u001b[0mPYFUNCTYPE\u001b[0m\u001b[0;34m(\u001b[0m\u001b[0mpy_object\u001b[0m\u001b[0;34m,\u001b[0m \u001b[0mc_void_p\u001b[0m\u001b[0;34m,\u001b[0m \u001b[0mpy_object\u001b[0m\u001b[0;34m,\u001b[0m \u001b[0mpy_object\u001b[0m\u001b[0;34m)\u001b[0m\u001b[0;34m(\u001b[0m\u001b[0m_cast_addr\u001b[0m\u001b[0;34m)\u001b[0m\u001b[0;34m\u001b[0m\u001b[0;34m\u001b[0m\u001b[0m\n\u001b[1;32m    489\u001b[0m \u001b[0;32mdef\u001b[0m \u001b[0mcast\u001b[0m\u001b[0;34m(\u001b[0m\u001b[0mobj\u001b[0m\u001b[0;34m,\u001b[0m \u001b[0mtyp\u001b[0m\u001b[0;34m)\u001b[0m\u001b[0;34m:\u001b[0m\u001b[0;34m\u001b[0m\u001b[0;34m\u001b[0m\u001b[0m\n\u001b[0;32m--> 490\u001b[0;31m     \u001b[0;32mreturn\u001b[0m \u001b[0m_cast\u001b[0m\u001b[0;34m(\u001b[0m\u001b[0mobj\u001b[0m\u001b[0;34m,\u001b[0m \u001b[0mobj\u001b[0m\u001b[0;34m,\u001b[0m \u001b[0mtyp\u001b[0m\u001b[0;34m)\u001b[0m\u001b[0;34m\u001b[0m\u001b[0;34m\u001b[0m\u001b[0m\n\u001b[0m\u001b[1;32m    491\u001b[0m \u001b[0;34m\u001b[0m\u001b[0m\n\u001b[1;32m    492\u001b[0m \u001b[0m_string_at\u001b[0m \u001b[0;34m=\u001b[0m \u001b[0mPYFUNCTYPE\u001b[0m\u001b[0;34m(\u001b[0m\u001b[0mpy_object\u001b[0m\u001b[0;34m,\u001b[0m \u001b[0mc_void_p\u001b[0m\u001b[0;34m,\u001b[0m \u001b[0mc_int\u001b[0m\u001b[0;34m)\u001b[0m\u001b[0;34m(\u001b[0m\u001b[0m_string_at_addr\u001b[0m\u001b[0;34m)\u001b[0m\u001b[0;34m\u001b[0m\u001b[0;34m\u001b[0m\u001b[0m\n",
      "\u001b[0;31mKeyboardInterrupt\u001b[0m: "
     ]
    }
   ],
   "source": [
    "''' compute em reliance for each net of each group and save data '''\n",
    "note = 'em reliance is the accuracy difference between net evaled with vs without em'\n",
    "fdir_save = 'model_data/amtask-sweep1_analysis/em_reliance/'\n",
    "write_note(fdir_save+'analysis_note',note)\n",
    "\n",
    "## eval params\n",
    "ntr_ev,trlen_ev = 10,10\n",
    "neps_ev = 200\n",
    "\n",
    "# loop\n",
    "emsettingL = [0,1]\n",
    "ntrialsL = [1,2]\n",
    "trlenL = [20,30,40]\n",
    "toksurpL = [0]\n",
    "\n",
    "for emsetting,ntrials,trlen,toksurp in itertools.product(emsettingL,ntrialsL,trlenL,toksurpL):\n",
    "  print(emsetting,ntrials,trlen,toksurp)\n",
    "  netL = load_netL(emsetting,ntrials,trlen,toksurp,nnets=20)\n",
    "  for net in netL:\n",
    "    net_em_r = compute_em_reliance(net,ntr_ev,trlen_ev,neps_ev)\n",
    "    fpath = 'em_reliance-em_%i-ntr_%i-trlen_%i-toksurp_%i-seed_%i'%(emsetting,ntrials,trlen,toksurp,net.seed)\n",
    "    np.save(fdir_save+fpath,net_em_r)\n"
   ]
  },
  {
   "cell_type": "code",
   "execution_count": 65,
   "metadata": {},
   "outputs": [
    {
     "data": {
      "text/plain": [
       "(5,)"
      ]
     },
     "execution_count": 65,
     "metadata": {},
     "output_type": "execute_result"
    }
   ],
   "source": []
  },
  {
   "cell_type": "markdown",
   "metadata": {},
   "source": [
    "### multi trial eval"
   ]
  },
  {
   "cell_type": "code",
   "execution_count": 145,
   "metadata": {},
   "outputs": [
    {
     "name": "stdout",
     "output_type": "stream",
     "text": [
      "N= 13\n"
     ]
    }
   ],
   "source": [
    "netL = load_netL(emsetting=1,ntrials=1,trlen=20,nnets=20)\n",
    "net = netL[2]\n",
    "task = TaskArbitraryMaps(nmaps=4,switchmaps=1,ntokens_surplus=0,seed=net.seed)"
   ]
  },
  {
   "cell_type": "code",
   "execution_count": 146,
   "metadata": {},
   "outputs": [],
   "source": [
    "neps_ev = 200\n",
    "nt_ev,trl_ev = 500,2\n",
    "nmaps = 4\n",
    "evsc = run_net(net,task,neps_ev,nt_ev,trl_ev,training=False)"
   ]
  },
  {
   "cell_type": "code",
   "execution_count": 147,
   "metadata": {},
   "outputs": [
    {
     "data": {
      "text/plain": [
       "[<matplotlib.lines.Line2D at 0x1a26dab400>]"
      ]
     },
     "execution_count": 147,
     "metadata": {},
     "output_type": "execute_result"
    },
    {
     "data": {
      "image/png": "[encoded data removed]",
      "text/plain": [
       "<Figure size 432x288 with 1 Axes>"
      ]
     },
     "metadata": {
      "needs_background": "light"
     },
     "output_type": "display_data"
    }
   ],
   "source": [
    "evacc = evsc[:,:,nmaps:].mean((0,2))\n",
    "plt.plot(mov_avg(evacc,10))"
   ]
  },
  {
   "cell_type": "code",
   "execution_count": 144,
   "metadata": {},
   "outputs": [
    {
     "data": {
      "text/plain": [
       "[<matplotlib.lines.Line2D at 0x1a2a78b9e8>]"
      ]
     },
     "execution_count": 144,
     "metadata": {},
     "output_type": "execute_result"
    },
    {
     "data": {
      "image/png": "[encoded data removed]",
      "text/plain": [
       "<Figure size 432x288 with 1 Axes>"
      ]
     },
     "metadata": {
      "needs_background": "light"
     },
     "output_type": "display_data"
    }
   ],
   "source": [
    "plt.plot(evsc[:,:,:].mean((0)).flatten())"
   ]
  },
  {
   "cell_type": "markdown",
   "metadata": {},
   "source": [
    "# train acc"
   ]
  },
  {
   "cell_type": "markdown",
   "metadata": {},
   "source": [
    "### load tracc of group, save in single np arr"
   ]
  },
  {
   "cell_type": "code",
   "execution_count": 83,
   "metadata": {},
   "outputs": [],
   "source": [
    "nm,ts = 4,0\n",
    "emL,ntrL,trlL = [0,1],[1,2],[20,30,40]"
   ]
  },
  {
   "cell_type": "code",
   "execution_count": 84,
   "metadata": {
    "scrolled": true
   },
   "outputs": [
    {
     "name": "stdout",
     "output_type": "stream",
     "text": [
      "err saving lstm_20-em_0-nmaps_4-ntrials_1-trlen_30-ntoksurp_0-group-tracc.npy\n",
      "err saving lstm_20-em_1-nmaps_4-ntrials_1-trlen_30-ntoksurp_0-group-tracc.npy\n"
     ]
    }
   ],
   "source": [
    "from glob import glob as glob\n",
    "import itertools\n",
    "fdir = 'model_data/amtask-sweep1/'\n",
    "\n",
    "for em,ntr,trl in itertools.product(emL,ntrL,trlL):\n",
    "  L = []\n",
    "  for seed in range(20):\n",
    "    fpath = 'lstm_20-em_%s-nmaps_%s-ntrials_%s-trlen_%s-ntoksurp_%s-seed_%s-trsc.npy'%(em,nm,ntr,trl,ts,seed)\n",
    "    try:\n",
    "      tracc = np.load(fdir+fpath).mean((1,2)) # tr,trlen\n",
    "      L.append(tracc)\n",
    "    except:\n",
    "      continue\n",
    "  fpath_save = 'lstm_20-em_%s-nmaps_%s-ntrials_%s-trlen_%s-ntoksurp_%s-group-tracc.npy'%(em,nm,ntr,trl,ts)\n",
    "  try:\n",
    "    np.save('model_data/amtask-sweep1_analysis/tracc/'+fpath_save,np.stack(L))\n",
    "  except:\n",
    "    print('err saving',fpath_save)\n",
    "    continue"
   ]
  },
  {
   "cell_type": "markdown",
   "metadata": {},
   "source": [
    "### analyze tracc"
   ]
  },
  {
   "cell_type": "code",
   "execution_count": null,
   "metadata": {},
   "outputs": [],
   "source": [
    "''' sample tracc dataframe '''\n",
    "\n",
    "# import pandas as pd\n",
    "\n",
    "# cols = ['acc','lstm1','lstm2','ntrials','seed']\n",
    "# df = pd.DataFrame(columns=cols)\n",
    "# data_dict = {}\n",
    "\n",
    "# fdir = 'model_data/dual_lstms_sweep1/'\n",
    "\n",
    "# stsize1L,stsize2L,ntrialsL,seedL = [15,20,25],[30,40,50],[1,2,3],np.arange(20)\n",
    "# for stsize1,stsize2,ntrials,seed in itertools.product(stsize1L,stsize2L,ntrialsL,seedL):\n",
    "#   fpath = fdir+\"lstm1_%i-lstm2_%i-ntrials_%i-seed_%i-tracc.npy\" %(stsize1,stsize2,ntrials,seed)\n",
    "#   try:\n",
    "#     tracc = np.load(fpath)\n",
    "#   except:\n",
    "#     continue\n",
    "#   acc = tracc[-10000:].mean()\n",
    "#   df_ = pd.DataFrame(np.array([[acc,stsize1,stsize2,ntrials,seed]]),columns=cols)\n",
    "#   df = df.append(df_)\n",
    "  "
   ]
  },
  {
   "cell_type": "code",
   "execution_count": 96,
   "metadata": {
    "scrolled": false
   },
   "outputs": [
    {
     "data": {
      "image/png": "[encoded data removed]",
      "text/plain": [
       "<Figure size 432x288 with 1 Axes>"
      ]
     },
     "metadata": {
      "needs_background": "light"
     },
     "output_type": "display_data"
    }
   ],
   "source": [
    "for fpath in fpathL:\n",
    "  ac = np.load(fpath).mean((1,2))\n",
    "  plt.plot(mov_avg(ac,500))\n"
   ]
  },
  {
   "cell_type": "markdown",
   "metadata": {},
   "source": [
    "# train and eval"
   ]
  },
  {
   "cell_type": "code",
   "execution_count": 2,
   "metadata": {},
   "outputs": [],
   "source": [
    "\n",
    "def run_net(net,task,neps,ntrials,trlen,training=True):\n",
    "  '''\n",
    "  returns score [neps,ntrials,nmaps+trlen]\n",
    "  '''\n",
    "  lossop = tr.nn.CrossEntropyLoss()\n",
    "  optiop = tr.optim.Adam(net.parameters(), lr=0.001)\n",
    "  exp_len = ntrials*(task.nmaps+trlen)\n",
    "  score = -np.ones([neps,exp_len])\n",
    "  for ep in range(neps):\n",
    "    # forward prop\n",
    "    iseq,xseq,ytarget = task.gen_ep_data(ntrials,trlen)\n",
    "    yhat_ulog = net(iseq,xseq)\n",
    "    # eval\n",
    "    score_t = (maxsoftmax(yhat_ulog) == ytarget).numpy()\n",
    "    score[ep] = np.squeeze(score_t)\n",
    "    if training:\n",
    "      loss = 0\n",
    "      for tstep in range(len(iseq)):\n",
    "        loss += lossop(yhat_ulog[tstep],ytarget[tstep])\n",
    "      optiop.zero_grad()\n",
    "      loss.backward(retain_graph=True)\n",
    "      optiop.step()\n",
    "  score = score.reshape(neps,ntrials,trlen+task.nmaps)\n",
    "  return score"
   ]
  },
  {
   "cell_type": "code",
   "execution_count": 48,
   "metadata": {},
   "outputs": [
    {
     "data": {
      "text/plain": [
       "<matplotlib.legend.Legend at 0x1a3010c9b0>"
      ]
     },
     "execution_count": 48,
     "metadata": {},
     "output_type": "execute_result"
    },
    {
     "data": {
      "image/png": "[encoded data removed]",
      "text/plain": [
       "<Figure size 432x288 with 1 Axes>"
      ]
     },
     "metadata": {
      "needs_background": "light"
     },
     "output_type": "display_data"
    }
   ],
   "source": [
    "## seed = np.random.randint(99)\n",
    "# task\n",
    "nmaps = 2\n",
    "ntokens_surplus = 0\n",
    "switchmaps = 1\n",
    "# net\n",
    "stsize = 30\n",
    "\n",
    "neps = 20000\n",
    "ntrials,trlen=1,10\n",
    "for em in [1]:\n",
    "  task = TaskArbitraryMaps(nmaps=nmaps,\n",
    "                           switchmaps=1,\n",
    "                           ntokens_surplus=0,\n",
    "                           seed=seed)\n",
    "  net = NetAMEM(stsize=stsize,\n",
    "                emsetting=em,\n",
    "                wmsetting=1,\n",
    "                seed=seed)\n",
    "  trsc = run_net(net,task,neps,ntrials,trlen,training=True)\n",
    "  tracc = trsc[:,:,nmaps:].mean((1,2))\n",
    "  plt.plot(mov_avg(tracc,10),label=em)\n",
    "  \n",
    "plt.ylim(0,1.05)\n",
    "plt.legend()"
   ]
  },
  {
   "cell_type": "code",
   "execution_count": 29,
   "metadata": {},
   "outputs": [],
   "source": [
    "ntr,trl,nm = 2,4,2\n",
    "task = TaskArbitraryMaps(nmaps=nm,switchmaps=1,ntokens_surplus=0,seed=0)\n"
   ]
  },
  {
   "cell_type": "code",
   "execution_count": 42,
   "metadata": {},
   "outputs": [
    {
     "name": "stdout",
     "output_type": "stream",
     "text": [
      "tensor(1) tensor(0.5488) tensor(1)\n",
      "tensor(2) tensor(0.8918) tensor(2)\n",
      "tensor(0) tensor(0.5488) tensor(1)\n",
      "tensor(0) tensor(0.5488) tensor(1)\n",
      "tensor(0) tensor(0.8918) tensor(2)\n",
      "tensor(0) tensor(0.8918) tensor(2)\n",
      "tensor(2) tensor(0.5488) tensor(2)\n",
      "tensor(1) tensor(0.8918) tensor(1)\n",
      "tensor(0) tensor(0.8918) tensor(1)\n",
      "tensor(0) tensor(0.5488) tensor(2)\n",
      "tensor(0) tensor(0.8918) tensor(1)\n",
      "tensor(0) tensor(0.8918) tensor(1)\n"
     ]
    }
   ],
   "source": [
    "iseq,xseq,yseq = task.gen_ep_data(ntr,trl)\n",
    "a = iseq[:,:].reshape(ntr,trl+nm)\n",
    "b = xseq[:,:,0].reshape(ntr,trl+nm)\n",
    "c = yseq.reshape(ntr,trl+nm)\n",
    "for i,j,k  in zip(a.flatten(),b.flatten(),c.flatten()):\n",
    "  print(i,j,k)\n"
   ]
  },
  {
   "cell_type": "code",
   "execution_count": 33,
   "metadata": {},
   "outputs": [],
   "source": [
    "net = NetAMEM(stsize=stsize,emsetting=em,wmsetting=1,seed=seed)"
   ]
  },
  {
   "cell_type": "code",
   "execution_count": 43,
   "metadata": {},
   "outputs": [
    {
     "name": "stdout",
     "output_type": "stream",
     "text": [
      "0 tensor([1]) tensor(0.5488)\n",
      "1 tensor([2]) tensor(0.8918)\n",
      "2 tensor([0]) tensor(0.5488)\n",
      "3 tensor([0]) tensor(0.5488)\n",
      "4 tensor([0]) tensor(0.8918)\n",
      "5 tensor([0]) tensor(0.8918)\n",
      "6 tensor([2]) tensor(0.5488)\n",
      "7 tensor([1]) tensor(0.8918)\n",
      "8 tensor([0]) tensor(0.8918)\n",
      "9 tensor([0]) tensor(0.5488)\n",
      "10 tensor([0]) tensor(0.8918)\n",
      "11 tensor([0]) tensor(0.8918)\n"
     ]
    }
   ],
   "source": [
    "yh = net(iseq,xseq)"
   ]
  },
  {
   "cell_type": "code",
   "execution_count": 5,
   "metadata": {
    "scrolled": true
   },
   "outputs": [],
   "source": [
    "'''eval'''\n",
    "# ntrials_ev,trlen_ev = 20,5\n",
    "# neps_ev = 200\n",
    "# evsc = run_net(net,task,neps_ev,ntrials_ev,trlen_ev,training=False)\n",
    "# block_acc = evsc[:,:,task.nmaps:].mean((0,2))\n",
    "# plt.plot(block_acc)\n",
    "\n",
    "# evsc = evsc.reshape(neps_ev,ntrials_ev,trlen_ev+task.nmaps)\n",
    "# print(evsc.shape)\n",
    "# evacc = evsc[:,:,task.nmaps:].mean((0,2))\n",
    "# plt.plot(evacc)\n",
    "# task.nmaps"
   ]
  },
  {
   "cell_type": "code",
   "execution_count": null,
   "metadata": {},
   "outputs": [],
   "source": []
  }
 ],
 "metadata": {
  "kernelspec": {
   "display_name": "Python 3",
   "language": "python",
   "name": "python3"
  },
  "language_info": {
   "codemirror_mode": {
    "name": "ipython",
    "version": 3
   },
   "file_extension": ".py",
   "mimetype": "text/x-python",
   "name": "python",
   "nbconvert_exporter": "python",
   "pygments_lexer": "ipython3",
   "version": "3.7.3"
  }
 },
 "nbformat": 4,
 "nbformat_minor": 2
}
