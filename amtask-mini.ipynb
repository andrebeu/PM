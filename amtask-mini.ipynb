{
 "cells": [
  {
   "cell_type": "code",
   "execution_count": 28,
   "metadata": {},
   "outputs": [
    {
     "name": "stdout",
     "output_type": "stream",
     "text": [
      "The autoreload extension is already loaded. To reload it, use:\n",
      "  %reload_ext autoreload\n"
     ]
    }
   ],
   "source": [
    "import torch as tr\n",
    "import numpy as np\n",
    "\n",
    "import itertools\n",
    "\n",
    "from PM_models import *\n",
    "from PM_tasks import *\n",
    "from help_amtask import *\n",
    "\n",
    "import seaborn as sns\n",
    "from matplotlib import pyplot as plt\n",
    "%matplotlib inline\n",
    "\n",
    "%load_ext autoreload\n",
    "%reload_ext autoreload\n",
    "%autoreload 2"
   ]
  },
  {
   "cell_type": "code",
   "execution_count": null,
   "metadata": {
    "scrolled": true
   },
   "outputs": [
    {
     "name": "stdout",
     "output_type": "stream",
     "text": [
      "0.0 0.0\n",
      "0.2 0.6666666666666666\n",
      "0.4 1.0\n",
      "0.6 1.0\n",
      "0.8 1.0\n",
      "0.0 0.3333333333333333\n",
      "0.2 0.6666666666666666\n",
      "0.4 0.6666666666666666\n",
      "0.6 1.0\n",
      "0.8 1.0\n",
      "0.0 0.3333333333333333\n",
      "0.2 1.0\n",
      "0.4 0.6666666666666666\n"
     ]
    }
   ],
   "source": [
    "nmaps = 2\n",
    "ntr,trlen=1,1\n",
    "neps = 10000\n",
    "stsize,em,wm,seed = 40,0,1,0\n",
    "indimL = [6,7,8,9]\n",
    "stsizeL = [10,11,12]\n",
    "plt.figure(figsize=(10,4))\n",
    "for stsize,indim in itertools.product(stsizeL,indimL):\n",
    "  net = NetAMEM(stsize,em,wm,seed,indim,indim)\n",
    "  net.deep = False\n",
    "  task = TaskArbitraryMaps(nmaps,seed=seed,stimdim=indim)\n",
    "  trsc = run_net(net,task,neps,ntr,trlen,True)\n",
    "  tracc = mov_avg(trsc[:,:,nmaps:].mean((1,2)),200)\n",
    "  plt.plot(tracc,label='s%i,i%i'%(stsize,indim))\n",
    "plt.ylim(0,1)\n",
    "plt.legend()"
   ]
  },
  {
   "cell_type": "code",
   "execution_count": null,
   "metadata": {},
   "outputs": [],
   "source": []
  }
 ],
 "metadata": {
  "kernelspec": {
   "display_name": "Python 3",
   "language": "python",
   "name": "python3"
  },
  "language_info": {
   "codemirror_mode": {
    "name": "ipython",
    "version": 3
   },
   "file_extension": ".py",
   "mimetype": "text/x-python",
   "name": "python",
   "nbconvert_exporter": "python",
   "pygments_lexer": "ipython3",
   "version": "3.7.3"
  }
 },
 "nbformat": 4,
 "nbformat_minor": 2
}
