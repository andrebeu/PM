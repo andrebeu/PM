{
 "cells": [
  {
   "cell_type": "code",
   "execution_count": 19,
   "metadata": {},
   "outputs": [
    {
     "name": "stdout",
     "output_type": "stream",
     "text": [
      "The autoreload extension is already loaded. To reload it, use:\n",
      "  %reload_ext autoreload\n"
     ]
    }
   ],
   "source": [
    "import torch as tr\n",
    "import numpy as np\n",
    "\n",
    "import itertools\n",
    "\n",
    "from PM_models import *\n",
    "from PM_tasks import *\n",
    "from help_amtask import *\n",
    "\n",
    "import seaborn as sns\n",
    "from matplotlib import pyplot as plt\n",
    "%matplotlib inline\n",
    "\n",
    "%load_ext autoreload\n",
    "%reload_ext autoreload\n",
    "%autoreload 2\n",
    "\n"
   ]
  },
  {
   "cell_type": "code",
   "execution_count": null,
   "metadata": {},
   "outputs": [],
   "source": [
    "task = TaskArbitraryMaps(2)"
   ]
  },
  {
   "cell_type": "code",
   "execution_count": 18,
   "metadata": {},
   "outputs": [
    {
     "data": {
      "text/plain": [
       "tensor([[0.0710, 0.5218, 0.0710],\n",
       "        [0.5218, 0.5488, 0.5218],\n",
       "        [0.5488, 0.0710, 0.0710],\n",
       "        [0.5218, 0.0710, 0.0710],\n",
       "        [0.5218, 0.0710, 0.0710],\n",
       "        [0.5488, 0.0710, 0.5488],\n",
       "        [0.5488, 0.0710, 0.5488],\n",
       "        [0.5488, 0.0710, 0.0710],\n",
       "        [0.5218, 0.5488, 0.5488],\n",
       "        [0.5488, 0.0710, 0.5488]])"
      ]
     },
     "execution_count": 18,
     "metadata": {},
     "output_type": "execute_result"
    }
   ],
   "source": [
    "i,x,y = task.gen_ep_data(10,1)\n",
    "x[:,0,0].reshape(10,-1)\n",
    "\n"
   ]
  }
 ],
 "metadata": {
  "kernelspec": {
   "display_name": "Python 3",
   "language": "python",
   "name": "python3"
  },
  "language_info": {
   "codemirror_mode": {
    "name": "ipython",
    "version": 3
   },
   "file_extension": ".py",
   "mimetype": "text/x-python",
   "name": "python",
   "nbconvert_exporter": "python",
   "pygments_lexer": "ipython3",
   "version": "3.7.3"
  }
 },
 "nbformat": 4,
 "nbformat_minor": 2
}
